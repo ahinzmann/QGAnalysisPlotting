{
 "cells": [
  {
   "cell_type": "markdown",
   "metadata": {},
   "source": [
    "This notebook is to do the differentiation of mean, RMS, delta - all the summary statistics used in the analysis.\n",
    "This is because I am too lazy to do it myself, and I'm curious how sympy does it."
   ]
  },
  {
   "cell_type": "code",
   "execution_count": 1,
   "metadata": {},
   "outputs": [],
   "source": [
    "from sympy import *"
   ]
  },
  {
   "cell_type": "code",
   "execution_count": 80,
   "metadata": {},
   "outputs": [],
   "source": [
    "# MUCH better latex printing of index variables\n",
    "from sympy.printing.latex import LatexPrinter\n",
    "\n",
    "class CustomLatexPrinter(LatexPrinter):\n",
    "    def _print_Idx(self, expr):\n",
    "        return expr.name\n",
    "\n",
    "    @classmethod\n",
    "    def printer(cls, expr, **kwargs):\n",
    "        return cls(kwargs).doprint(expr)\n",
    "\n",
    "init_printing(use_latex='mathjax', latex_printer=CustomLatexPrinter.printer)\n",
    "\n",
    "def print_my_latex(expr):\n",
    "    \"\"\" Most of the printers define their own wrappers for print().\n",
    "    These wrappers usually take printer settings. Our printer does not have\n",
    "    any settings.\n",
    "    \"\"\"\n",
    "    print(CustomLatexPrinter().doprint(expr))"
   ]
  },
  {
   "cell_type": "markdown",
   "metadata": {},
   "source": [
    "## Basic playing"
   ]
  },
  {
   "cell_type": "code",
   "execution_count": 2,
   "metadata": {},
   "outputs": [],
   "source": [
    "x, y, z = symbols('x y z')"
   ]
  },
  {
   "cell_type": "code",
   "execution_count": 3,
   "metadata": {},
   "outputs": [
    {
     "data": {
      "text/latex": [
       "$\\displaystyle 2 x e^{x^{2}}$"
      ],
      "text/plain": [
       "2*x*exp(x**2)"
      ]
     },
     "execution_count": 3,
     "metadata": {},
     "output_type": "execute_result"
    }
   ],
   "source": [
    "diff(exp(x**2), x)"
   ]
  },
  {
   "cell_type": "code",
   "execution_count": 8,
   "metadata": {},
   "outputs": [
    {
     "name": "stdout",
     "output_type": "stream",
     "text": [
      "2 x e^{x^{2}}\n"
     ]
    }
   ],
   "source": [
    "print(latex(diff(exp(x**2), x)))"
   ]
  },
  {
   "cell_type": "markdown",
   "metadata": {},
   "source": [
    "## Mean"
   ]
  },
  {
   "cell_type": "markdown",
   "metadata": {},
   "source": [
    "$$\\langle f \\rangle = \\frac{\\sum_i A_ix_i}{\\sum_i A_i}$$"
   ]
  },
  {
   "cell_type": "code",
   "execution_count": 98,
   "metadata": {},
   "outputs": [],
   "source": [
    "A = IndexedBase('A')\n",
    "x = IndexedBase('x')\n",
    "k, n = symbols('k n', cls=Idx)\n",
    "i, j = symbols('i j', cls=Idx)\n",
    "mean = Sum(A[k]*x[k], (k, 1, n)) / Sum(A[k], (k, 1, n))"
   ]
  },
  {
   "cell_type": "code",
   "execution_count": 99,
   "metadata": {},
   "outputs": [
    {
     "data": {
      "text/latex": [
       "$\\displaystyle \\frac{\\sum_{k=1}^{n} {A}_{k} {x}_{k}}{\\sum_{k=1}^{n} {A}_{k}}$"
      ],
      "text/plain": [
       "  n            \n",
       " ___           \n",
       " ╲             \n",
       "  ╲            \n",
       "  ╱   A[k]⋅x[k]\n",
       " ╱             \n",
       " ‾‾‾           \n",
       "k = 1          \n",
       "───────────────\n",
       "     n         \n",
       "    ___        \n",
       "    ╲          \n",
       "     ╲         \n",
       "     ╱   A[k]  \n",
       "    ╱          \n",
       "    ‾‾‾        \n",
       "   k = 1       "
      ]
     },
     "execution_count": 99,
     "metadata": {},
     "output_type": "execute_result"
    }
   ],
   "source": [
    "mean"
   ]
  },
  {
   "cell_type": "code",
   "execution_count": 112,
   "metadata": {},
   "outputs": [],
   "source": [
    "# important - you must use a different  Idx variable here, than used in f, otherwise it will go weird\n",
    "differential_mean = mean.diff(A[i])"
   ]
  },
  {
   "cell_type": "code",
   "execution_count": 113,
   "metadata": {},
   "outputs": [
    {
     "data": {
      "text/latex": [
       "$\\displaystyle \\frac{\\sum_{k=1}^{n} \\delta_{i k} {x}_{k}}{\\sum_{k=1}^{n} {A}_{k}} - \\frac{\\left(\\sum_{k=1}^{n} {A}_{k} {x}_{k}\\right) \\sum_{k=1}^{n} \\delta_{i k}}{\\left(\\sum_{k=1}^{n} {A}_{k}\\right)^{2}}$"
      ],
      "text/plain": [
       "  n               ⎛  n            ⎞   n       \n",
       " ___              ⎜ ___           ⎟  ___      \n",
       " ╲                ⎜ ╲             ⎟  ╲        \n",
       "  ╲   δ   ⋅x[k]   ⎜  ╲            ⎟   ╲   δ   \n",
       "  ╱    i,k        ⎜  ╱   A[k]⋅x[k]⎟⋅  ╱    i,k\n",
       " ╱                ⎜ ╱             ⎟  ╱        \n",
       " ‾‾‾              ⎜ ‾‾‾           ⎟  ‾‾‾      \n",
       "k = 1             ⎝k = 1          ⎠ k = 1     \n",
       "─────────────── - ────────────────────────────\n",
       "     n                               2        \n",
       "    ___                  ⎛  n       ⎞         \n",
       "    ╲                    ⎜ ___      ⎟         \n",
       "     ╲                   ⎜ ╲        ⎟         \n",
       "     ╱   A[k]            ⎜  ╲       ⎟         \n",
       "    ╱                    ⎜  ╱   A[k]⎟         \n",
       "    ‾‾‾                  ⎜ ╱        ⎟         \n",
       "   k = 1                 ⎜ ‾‾‾      ⎟         \n",
       "                         ⎝k = 1     ⎠         "
      ]
     },
     "execution_count": 113,
     "metadata": {},
     "output_type": "execute_result"
    }
   ],
   "source": [
    "differential_mean"
   ]
  },
  {
   "cell_type": "code",
   "execution_count": 114,
   "metadata": {},
   "outputs": [
    {
     "name": "stdout",
     "output_type": "stream",
     "text": [
      "  n               ⎛  n            ⎞   n       \n",
      " ___              ⎜ ___           ⎟  ___      \n",
      " ╲                ⎜ ╲             ⎟  ╲        \n",
      "  ╲   δ   ⋅x[k]   ⎜  ╲            ⎟   ╲   δ   \n",
      "  ╱    i,k        ⎜  ╱   A[k]⋅x[k]⎟⋅  ╱    i,k\n",
      " ╱                ⎜ ╱             ⎟  ╱        \n",
      " ‾‾‾              ⎜ ‾‾‾           ⎟  ‾‾‾      \n",
      "k = 1             ⎝k = 1          ⎠ k = 1     \n",
      "─────────────── - ────────────────────────────\n",
      "     n                               2        \n",
      "    ___                  ⎛  n       ⎞         \n",
      "    ╲                    ⎜ ___      ⎟         \n",
      "     ╲                   ⎜ ╲        ⎟         \n",
      "     ╱   A[k]            ⎜  ╲       ⎟         \n",
      "    ╱                    ⎜  ╱   A[k]⎟         \n",
      "    ‾‾‾                  ⎜ ╱        ⎟         \n",
      "   k = 1                 ⎜ ‾‾‾      ⎟         \n",
      "                         ⎝k = 1     ⎠         \n"
     ]
    }
   ],
   "source": [
    "pprint(differential_mean)"
   ]
  },
  {
   "cell_type": "code",
   "execution_count": 115,
   "metadata": {},
   "outputs": [
    {
     "data": {
      "text/latex": [
       "$\\displaystyle \\begin{cases} \\frac{{x}_{i}}{\\sum_{k=1}^{n} {A}_{k}} + \\sum_{k=1}^{n} - \\frac{{A}_{k} {x}_{k}}{\\left(\\sum_{k=1}^{n} {A}_{k}\\right)^{2}} & \\text{for}\\: i \\geq 1 \\wedge i \\leq n \\\\\\sum_{k=1}^{n} 0 & \\text{otherwise} \\end{cases}$"
      ],
      "text/plain": [
       "⎧                n                                     \n",
       "⎪             ________                                 \n",
       "⎪             ╲                                        \n",
       "⎪              ╲                                       \n",
       "⎪               ╲       -A[k]⋅x[k]                     \n",
       "⎪                ╲     ─────────────                   \n",
       "⎪                 ╲                2                   \n",
       "⎪                  ╲   ⎛  n       ⎞                    \n",
       "⎪   x[i]            ╲  ⎜ ___      ⎟                    \n",
       "⎪────────── +       ╱  ⎜ ╲        ⎟   for i ≥ 1 ∧ i ≤ n\n",
       "⎪  n               ╱   ⎜  ╲       ⎟                    \n",
       "⎪ ___             ╱    ⎜  ╱   A[k]⎟                    \n",
       "⎪ ╲              ╱     ⎜ ╱        ⎟                    \n",
       "⎨  ╲            ╱      ⎜ ‾‾‾      ⎟                    \n",
       "⎪  ╱   A[k]    ╱       ⎝k = 1     ⎠                    \n",
       "⎪ ╱           ╱                                        \n",
       "⎪ ‾‾‾         ‾‾‾‾‾‾‾‾                                 \n",
       "⎪k = 1         k = 1                                   \n",
       "⎪                                                      \n",
       "⎪                n                                     \n",
       "⎪               ___                                    \n",
       "⎪               ╲                                      \n",
       "⎪                ╲                                     \n",
       "⎪                ╱   0                    otherwise    \n",
       "⎪               ╱                                      \n",
       "⎪               ‾‾‾                                    \n",
       "⎩              k = 1                                   "
      ]
     },
     "execution_count": 115,
     "metadata": {},
     "output_type": "execute_result"
    }
   ],
   "source": [
    "differential_mean.simplify()"
   ]
  },
  {
   "cell_type": "code",
   "execution_count": 116,
   "metadata": {},
   "outputs": [
    {
     "name": "stdout",
     "output_type": "stream",
     "text": [
      "\\frac{\\sum_{k=1}^{n} \\delta_{i k} {x}_{k}}{\\sum_{k=1}^{n} {A}_{k}} - \\frac{\\left(\\sum_{k=1}^{n} {A}_{k} {x}_{k}\\right) \\sum_{k=1}^{n} \\delta_{i k}}{\\left(\\sum_{k=1}^{n} {A}_{k}\\right)^{2}}\n"
     ]
    }
   ],
   "source": [
    "# I dunno how to simplify the kronecker deltas\n",
    "print_my_latex(differential_mean)"
   ]
  },
  {
   "cell_type": "markdown",
   "metadata": {},
   "source": [
    "## RMS"
   ]
  },
  {
   "cell_type": "markdown",
   "metadata": {},
   "source": [
    "$$RMS = \\sqrt{ \\frac{\\sum_i (A_i x_i - \\langle\\lambda\\rangle)^2}{ \\sum_i A_i}  }$$"
   ]
  },
  {
   "cell_type": "code",
   "execution_count": 124,
   "metadata": {},
   "outputs": [],
   "source": [
    "rms = sqrt( Sum( (A[j]*x[j] - mean)**2 , (j, 1, n))  / Sum(A[j], (j, 1, n)) )"
   ]
  },
  {
   "cell_type": "code",
   "execution_count": 125,
   "metadata": {},
   "outputs": [
    {
     "data": {
      "text/latex": [
       "$\\displaystyle \\sqrt{\\frac{\\sum_{j=1}^{n} \\left({A}_{j} {x}_{j} - \\frac{\\sum_{k=1}^{n} {A}_{k} {x}_{k}}{\\sum_{k=1}^{n} {A}_{k}}\\right)^{2}}{\\sum_{j=1}^{n} {A}_{j}}}$"
      ],
      "text/plain": [
       "                                  ____________________________________________\n",
       "                                 ╱      n                                     \n",
       "                                ╱  ___________                                \n",
       "                               ╱   ╲                                          \n",
       "                              ╱     ╲                                       2 \n",
       "                             ╱       ╲         ⎛              n            ⎞  \n",
       "                            ╱         ╲        ⎜             ___           ⎟  \n",
       "                           ╱           ╲       ⎜             ╲             ⎟  \n",
       "                          ╱             ╲      ⎜              ╲            ⎟  \n",
       "                         ╱               ╲     ⎜              ╱   A[k]⋅x[k]⎟  \n",
       "                        ╱                 ╲    ⎜             ╱             ⎟  \n",
       "                       ╱                   ╲   ⎜             ‾‾‾           ⎟  \n",
       "                      ╱                     ╲  ⎜            k = 1          ⎟  \n",
       "                     ╱                      ╱  ⎜A[j]⋅x[j] - ───────────────⎟  \n",
       "                    ╱                      ╱   ⎜                 n         ⎟  \n",
       "                   ╱                      ╱    ⎜                ___        ⎟  \n",
       "                  ╱                      ╱     ⎜                ╲          ⎟  \n",
       "                 ╱                      ╱      ⎜                 ╲         ⎟  \n",
       "                ╱                      ╱       ⎜                 ╱   A[k]  ⎟  \n",
       "               ╱                      ╱        ⎜                ╱          ⎟  \n",
       "              ╱                      ╱         ⎜                ‾‾‾        ⎟  \n",
       "             ╱                      ╱          ⎝               k = 1       ⎠  \n",
       "            ╱                      ╱                                          \n",
       "           ╱                       ‾‾‾‾‾‾‾‾‾‾‾                                \n",
       "          ╱                           j = 1                                   \n",
       "         ╱                         ────────────────────────────────────────── \n",
       "        ╱                                            n                        \n",
       "       ╱                                            ___                       \n",
       "      ╱                                             ╲                         \n",
       "     ╱                                               ╲                        \n",
       "    ╱                                                ╱   A[j]                 \n",
       "   ╱                                                ╱                         \n",
       "  ╱                                                 ‾‾‾                       \n",
       "╲╱                                                 j = 1                      "
      ]
     },
     "execution_count": 125,
     "metadata": {},
     "output_type": "execute_result"
    }
   ],
   "source": [
    "rms"
   ]
  },
  {
   "cell_type": "code",
   "execution_count": 126,
   "metadata": {},
   "outputs": [
    {
     "name": "stdout",
     "output_type": "stream",
     "text": [
      "\\sqrt{\\frac{\\sum_{j=1}^{n} \\left({A}_{j} {x}_{j} - \\frac{\\sum_{k=1}^{n} {A}_{k} {x}_{k}}{\\sum_{k=1}^{n} {A}_{k}}\\right)^{2}}{\\sum_{j=1}^{n} {A}_{j}}}\n"
     ]
    }
   ],
   "source": [
    "print_my_latex(rms)"
   ]
  },
  {
   "cell_type": "code",
   "execution_count": 127,
   "metadata": {},
   "outputs": [],
   "source": [
    "differential_rms = rms.diff(A[i])"
   ]
  },
  {
   "cell_type": "code",
   "execution_count": 128,
   "metadata": {},
   "outputs": [
    {
     "data": {
      "text/latex": [
       "$\\displaystyle \\frac{\\left(\\sqrt{\\frac{\\sum_{j=1}^{n} \\left({A}_{j} {x}_{j} - \\frac{\\sum_{k=1}^{n} {A}_{k} {x}_{k}}{\\sum_{k=1}^{n} {A}_{k}}\\right)^{2}}{\\sum_{j=1}^{n} {A}_{j}}}\\right) \\left(\\frac{\\sum_{j=1}^{n} \\left({A}_{j} {x}_{j} - \\frac{\\sum_{k=1}^{n} {A}_{k} {x}_{k}}{\\sum_{k=1}^{n} {A}_{k}}\\right) \\left(2 \\delta_{i j} {x}_{j} - \\frac{2 \\sum_{k=1}^{n} \\delta_{i k} {x}_{k}}{\\sum_{k=1}^{n} {A}_{k}} + \\frac{2 \\left(\\sum_{k=1}^{n} {A}_{k} {x}_{k}\\right) \\sum_{k=1}^{n} \\delta_{i k}}{\\left(\\sum_{k=1}^{n} {A}_{k}\\right)^{2}}\\right)}{2 \\sum_{j=1}^{n} {A}_{j}} - \\frac{\\left(\\sum_{j=1}^{n} \\left({A}_{j} {x}_{j} - \\frac{\\sum_{k=1}^{n} {A}_{k} {x}_{k}}{\\sum_{k=1}^{n} {A}_{k}}\\right)^{2}\\right) \\sum_{j=1}^{n} \\delta_{i j}}{2 \\left(\\sum_{j=1}^{n} {A}_{j}\\right)^{2}}\\right) \\sum_{j=1}^{n} {A}_{j}}{\\sum_{j=1}^{n} \\left({A}_{j} {x}_{j} - \\frac{\\sum_{k=1}^{n} {A}_{k} {x}_{k}}{\\sum_{k=1}^{n} {A}_{k}}\\right)^{2}}$"
      ],
      "text/plain": [
       "                                  ____________________________________________\n",
       "                                 ╱      n                                     \n",
       "                                ╱  ___________                                \n",
       "                               ╱   ╲                                          \n",
       "                              ╱     ╲                                       2 \n",
       "                             ╱       ╲         ⎛              n            ⎞  \n",
       "                            ╱         ╲        ⎜             ___           ⎟  \n",
       "                           ╱           ╲       ⎜             ╲             ⎟  \n",
       "                          ╱             ╲      ⎜              ╲            ⎟  \n",
       "                         ╱               ╲     ⎜              ╱   A[k]⋅x[k]⎟  \n",
       "                        ╱                 ╲    ⎜             ╱             ⎟  \n",
       "                       ╱                   ╲   ⎜             ‾‾‾           ⎟  \n",
       "                      ╱                     ╲  ⎜            k = 1          ⎟  \n",
       "                     ╱                      ╱  ⎜A[j]⋅x[j] - ───────────────⎟  \n",
       "                    ╱                      ╱   ⎜                 n         ⎟  \n",
       "                   ╱                      ╱    ⎜                ___        ⎟  \n",
       "                  ╱                      ╱     ⎜                ╲          ⎟  \n",
       "                 ╱                      ╱      ⎜                 ╲         ⎟  \n",
       "                ╱                      ╱       ⎜                 ╱   A[k]  ⎟  \n",
       "               ╱                      ╱        ⎜                ╱          ⎟  \n",
       "              ╱                      ╱         ⎜                ‾‾‾        ⎟  \n",
       "             ╱                      ╱          ⎝               k = 1       ⎠  \n",
       "            ╱                      ╱                                          \n",
       "           ╱                       ‾‾‾‾‾‾‾‾‾‾‾                                \n",
       "          ╱                           j = 1                                   \n",
       "         ╱                         ────────────────────────────────────────── \n",
       "        ╱                                            n                        \n",
       "       ╱                                            ___                       \n",
       "      ╱                                             ╲                         \n",
       "     ╱                                               ╲                        \n",
       "    ╱                                                ╱   A[j]                 \n",
       "   ╱                                                ╱                         \n",
       "  ╱                                                 ‾‾‾                       \n",
       "╲╱                                                 j = 1                      \n",
       "                                                                              \n",
       "──────────────────────────────────────────────────────────────────────────────\n",
       "                                                                              \n",
       "                                                                              \n",
       "                                                                              \n",
       "                                                                              \n",
       "                                                                              \n",
       "                                                                              \n",
       "                                                                              \n",
       "                                                                              \n",
       "                                                                              \n",
       "                                                                              \n",
       "                                                                              \n",
       "                                                                              \n",
       "                                                                              \n",
       "                                                                              \n",
       "                                                                              \n",
       "                                                                              \n",
       "                                                                              \n",
       "                                                                              \n",
       "                                                                              \n",
       "                                                                              \n",
       "                                                                              \n",
       "                                                                              \n",
       "                                                                              \n",
       "                                                                              \n",
       "\n",
       "                                                                              \n",
       " ⎛     n                                                                      \n",
       " ⎜___________                                                                 \n",
       " ⎜╲                                                                           \n",
       " ⎜ ╲          ⎛              n            ⎞ ⎛                  n              \n",
       " ⎜  ╲         ⎜             ___           ⎟ ⎜                 ___             \n",
       " ⎜   ╲        ⎜             ╲             ⎟ ⎜                 ╲               \n",
       " ⎜    ╲       ⎜              ╲            ⎟ ⎜                  ╲   δ   ⋅x[k]  \n",
       " ⎜     ╲      ⎜              ╱   A[k]⋅x[k]⎟ ⎜              2⋅  ╱    i,k       \n",
       " ⎜      ╲     ⎜             ╱             ⎟ ⎜                 ╱               \n",
       " ⎜       ╲    ⎜             ‾‾‾           ⎟ ⎜                 ‾‾‾             \n",
       " ⎜        ╲   ⎜            k = 1          ⎟ ⎜                k = 1            \n",
       " ⎜         ╲  ⎜A[j]⋅x[j] - ───────────────⎟⋅⎜2⋅δ   ⋅x[j] - ───────────────── +\n",
       " ⎜         ╱  ⎜                 n         ⎟ ⎜   i,j              n            \n",
       " ⎜        ╱   ⎜                ___        ⎟ ⎜                   ___           \n",
       " ⎜       ╱    ⎜                ╲          ⎟ ⎜                   ╲             \n",
       " ⎜      ╱     ⎜                 ╲         ⎟ ⎜                    ╲            \n",
       " ⎜     ╱      ⎜                 ╱   A[k]  ⎟ ⎜                    ╱   A[k]     \n",
       " ⎜    ╱       ⎜                ╱          ⎟ ⎜                   ╱             \n",
       " ⎜   ╱        ⎜                ‾‾‾        ⎟ ⎜                   ‾‾‾           \n",
       " ⎜  ╱         ⎝               k = 1       ⎠ ⎜                  k = 1          \n",
       " ⎜ ╱                                        ⎝                                 \n",
       " ⎜╱                                                                           \n",
       " ⎜‾‾‾‾‾‾‾‾‾‾‾                                                                 \n",
       " ⎜   j = 1                                                                    \n",
       "⋅⎜────────────────────────────────────────────────────────────────────────────\n",
       " ⎜                                                    n                       \n",
       " ⎜                                                   ___                      \n",
       " ⎜                                                   ╲                        \n",
       " ⎜                                                    ╲                       \n",
       " ⎜                                                2⋅  ╱   A[j]                \n",
       " ⎜                                                   ╱                        \n",
       " ⎜                                                   ‾‾‾                      \n",
       " ⎜                                                  j = 1                     \n",
       " ⎝                                                                            \n",
       "──────────────────────────────────────────────────────────────────────────────\n",
       "                                   n                                          \n",
       "                              ___________                                     \n",
       "                              ╲                                               \n",
       "                               ╲                                       2      \n",
       "                                ╲         ⎛              n            ⎞       \n",
       "                                 ╲        ⎜             ___           ⎟       \n",
       "                                  ╲       ⎜             ╲             ⎟       \n",
       "                                   ╲      ⎜              ╲            ⎟       \n",
       "                                    ╲     ⎜              ╱   A[k]⋅x[k]⎟       \n",
       "                                     ╲    ⎜             ╱             ⎟       \n",
       "                                      ╲   ⎜             ‾‾‾           ⎟       \n",
       "                                       ╲  ⎜            k = 1          ⎟       \n",
       "                                       ╱  ⎜A[j]⋅x[j] - ───────────────⎟       \n",
       "                                      ╱   ⎜                 n         ⎟       \n",
       "                                     ╱    ⎜                ___        ⎟       \n",
       "                                    ╱     ⎜                ╲          ⎟       \n",
       "                                   ╱      ⎜                 ╲         ⎟       \n",
       "                                  ╱       ⎜                 ╱   A[k]  ⎟       \n",
       "                                 ╱        ⎜                ╱          ⎟       \n",
       "                                ╱         ⎜                ‾‾‾        ⎟       \n",
       "                               ╱          ⎝               k = 1       ⎠       \n",
       "                              ╱                                               \n",
       "                              ‾‾‾‾‾‾‾‾‾‾‾                                     \n",
       "                                 j = 1                                        \n",
       "\n",
       "                                                                              \n",
       "                                   ⎛     n                                    \n",
       "                                   ⎜___________                               \n",
       "                                   ⎜╲                                         \n",
       "   ⎛  n            ⎞   n       ⎞   ⎜ ╲                                       2\n",
       "   ⎜ ___           ⎟  ___      ⎟   ⎜  ╲         ⎛              n            ⎞ \n",
       "   ⎜ ╲             ⎟  ╲        ⎟   ⎜   ╲        ⎜             ___           ⎟ \n",
       "   ⎜  ╲            ⎟   ╲   δ   ⎟   ⎜    ╲       ⎜             ╲             ⎟ \n",
       " 2⋅⎜  ╱   A[k]⋅x[k]⎟⋅  ╱    i,k⎟   ⎜     ╲      ⎜              ╲            ⎟ \n",
       "   ⎜ ╱             ⎟  ╱        ⎟   ⎜      ╲     ⎜              ╱   A[k]⋅x[k]⎟ \n",
       "   ⎜ ‾‾‾           ⎟  ‾‾‾      ⎟   ⎜       ╲    ⎜             ╱             ⎟ \n",
       "   ⎝k = 1          ⎠ k = 1     ⎟   ⎜        ╲   ⎜             ‾‾‾           ⎟ \n",
       " ──────────────────────────────⎟   ⎜         ╲  ⎜            k = 1          ⎟ \n",
       "                     2         ⎟   ⎜         ╱  ⎜A[j]⋅x[j] - ───────────────⎟ \n",
       "         ⎛  n       ⎞          ⎟   ⎜        ╱   ⎜                 n         ⎟ \n",
       "         ⎜ ___      ⎟          ⎟   ⎜       ╱    ⎜                ___        ⎟ \n",
       "         ⎜ ╲        ⎟          ⎟   ⎜      ╱     ⎜                ╲          ⎟ \n",
       "         ⎜  ╲       ⎟          ⎟   ⎜     ╱      ⎜                 ╲         ⎟ \n",
       "         ⎜  ╱   A[k]⎟          ⎟   ⎜    ╱       ⎜                 ╱   A[k]  ⎟ \n",
       "         ⎜ ╱        ⎟          ⎟   ⎜   ╱        ⎜                ╱          ⎟ \n",
       "         ⎜ ‾‾‾      ⎟          ⎟   ⎜  ╱         ⎜                ‾‾‾        ⎟ \n",
       "         ⎝k = 1     ⎠          ⎠   ⎜ ╱          ⎝               k = 1       ⎠ \n",
       "                                   ⎜╱                                         \n",
       "                                   ⎜‾‾‾‾‾‾‾‾‾‾‾                               \n",
       "                                   ⎝   j = 1                                  \n",
       "──────────────────────────────── - ───────────────────────────────────────────\n",
       "                                                                     2        \n",
       "                                                         ⎛  n       ⎞         \n",
       "                                                         ⎜ ___      ⎟         \n",
       "                                                         ⎜ ╲        ⎟         \n",
       "                                                         ⎜  ╲       ⎟         \n",
       "                                                       2⋅⎜  ╱   A[j]⎟         \n",
       "                                                         ⎜ ╱        ⎟         \n",
       "                                                         ⎜ ‾‾‾      ⎟         \n",
       "                                                         ⎝j = 1     ⎠         \n",
       "──────────────────────────────────────────────────────────────────────────────\n",
       "                                                                              \n",
       "                                                                              \n",
       "                                                                              \n",
       "                                                                              \n",
       "                                                                              \n",
       "                                                                              \n",
       "                                                                              \n",
       "                                                                              \n",
       "                                                                              \n",
       "                                                                              \n",
       "                                                                              \n",
       "                                                                              \n",
       "                                                                              \n",
       "                                                                              \n",
       "                                                                              \n",
       "                                                                              \n",
       "                                                                              \n",
       "                                                                              \n",
       "                                                                              \n",
       "                                                                              \n",
       "                                                                              \n",
       "                                                                              \n",
       "                                                                              \n",
       "                                                                              \n",
       "\n",
       "                        \n",
       "⎞           ⎞           \n",
       "⎟           ⎟           \n",
       "⎟           ⎟           \n",
       "⎟           ⎟           \n",
       "⎟           ⎟           \n",
       "⎟           ⎟           \n",
       "⎟           ⎟           \n",
       "⎟           ⎟           \n",
       "⎟   n       ⎟           \n",
       "⎟  ___      ⎟           \n",
       "⎟  ╲        ⎟           \n",
       "⎟   ╲   δ   ⎟           \n",
       "⎟⋅  ╱    i,j⎟           \n",
       "⎟  ╱        ⎟           \n",
       "⎟  ‾‾‾      ⎟           \n",
       "⎟ j = 1     ⎟           \n",
       "⎟           ⎟           \n",
       "⎟           ⎟           \n",
       "⎟           ⎟           \n",
       "⎟           ⎟           \n",
       "⎟           ⎟   n       \n",
       "⎟           ⎟  ___      \n",
       "⎟           ⎟  ╲        \n",
       "⎠           ⎟   ╲       \n",
       "────────────⎟⋅  ╱   A[j]\n",
       "            ⎟  ╱        \n",
       "            ⎟  ‾‾‾      \n",
       "            ⎟ j = 1     \n",
       "            ⎟           \n",
       "            ⎟           \n",
       "            ⎟           \n",
       "            ⎟           \n",
       "            ⎟           \n",
       "            ⎠           \n",
       "────────────────────────\n",
       "                        \n",
       "                        \n",
       "                        \n",
       "                        \n",
       "                        \n",
       "                        \n",
       "                        \n",
       "                        \n",
       "                        \n",
       "                        \n",
       "                        \n",
       "                        \n",
       "                        \n",
       "                        \n",
       "                        \n",
       "                        \n",
       "                        \n",
       "                        \n",
       "                        \n",
       "                        \n",
       "                        \n",
       "                        \n",
       "                        \n",
       "                        "
      ]
     },
     "execution_count": 128,
     "metadata": {},
     "output_type": "execute_result"
    }
   ],
   "source": [
    "differential_rms"
   ]
  },
  {
   "cell_type": "code",
   "execution_count": 117,
   "metadata": {},
   "outputs": [
    {
     "name": "stdout",
     "output_type": "stream",
     "text": [
      "\\frac{\\left(\\sqrt{\\frac{\\sum_{j=1}^{n} \\left({A}_{j} {x}_{j} - \\frac{\\sum_{k=1}^{n} {A}_{k} {x}_{k}}{\\sum_{k=1}^{n} {A}_{k}}\\right)^{2}}{\\sum_{j=1}^{n} {A}_{j}}}\\right) \\left(\\frac{\\sum_{j=1}^{n} \\left({A}_{j} {x}_{j} - \\frac{\\sum_{k=1}^{n} {A}_{k} {x}_{k}}{\\sum_{k=1}^{n} {A}_{k}}\\right) \\left(2 \\delta_{i j} {x}_{j} - \\frac{2 \\sum_{k=1}^{n} \\delta_{i k} {x}_{k}}{\\sum_{k=1}^{n} {A}_{k}} + \\frac{2 \\left(\\sum_{k=1}^{n} {A}_{k} {x}_{k}\\right) \\sum_{k=1}^{n} \\delta_{i k}}{\\left(\\sum_{k=1}^{n} {A}_{k}\\right)^{2}}\\right)}{2 \\sum_{j=1}^{n} {A}_{j}} - \\frac{\\left(\\sum_{j=1}^{n} \\left({A}_{j} {x}_{j} - \\frac{\\sum_{k=1}^{n} {A}_{k} {x}_{k}}{\\sum_{k=1}^{n} {A}_{k}}\\right)^{2}\\right) \\sum_{j=1}^{n} \\delta_{i j}}{2 \\left(\\sum_{j=1}^{n} {A}_{j}\\right)^{2}}\\right) \\sum_{j=1}^{n} {A}_{j}}{\\sum_{j=1}^{n} \\left({A}_{j} {x}_{j} - \\frac{\\sum_{k=1}^{n} {A}_{k} {x}_{k}}{\\sum_{k=1}^{n} {A}_{k}}\\right)^{2}}\n"
     ]
    }
   ],
   "source": [
    "print_my_latex(differential_rms)"
   ]
  },
  {
   "cell_type": "markdown",
   "metadata": {},
   "source": [
    "## Delta ($\\Delta$)"
   ]
  },
  {
   "cell_type": "markdown",
   "metadata": {},
   "source": [
    "\\begin{align}\n",
    "\\Delta &= \\frac{1}{2} \\int \\frac{(p_{1}(\\lambda) - p_{2}(\\lambda))^2}{p_{1}(\\lambda) + p_{2}(\\lambda)} \\mathrm{d}\\lambda \\\\\n",
    "       &= 0.5 \\sum_i \\frac{(A_i - B_i)^2}{A_i + B_i} \\text{ (in discrete form)}\n",
    "\\end{align}"
   ]
  },
  {
   "cell_type": "code",
   "execution_count": 130,
   "metadata": {},
   "outputs": [],
   "source": [
    "A = IndexedBase(\"A\")\n",
    "B = IndexedBase(\"B\")\n",
    "i, j = symbols('i j', cls=Idx)\n",
    "delta = 0.5 * Sum( (A[j] - B[j])**2 / (A[j] + B[j]), (j, 1, n))"
   ]
  },
  {
   "cell_type": "code",
   "execution_count": 131,
   "metadata": {},
   "outputs": [
    {
     "data": {
      "text/latex": [
       "$\\displaystyle 0.5 \\sum_{j=1}^{n} \\frac{\\left({A}_{j} - {B}_{j}\\right)^{2}}{{A}_{j} + {B}_{j}}$"
      ],
      "text/plain": [
       "      n                 \n",
       "     ____               \n",
       "     ╲                  \n",
       "      ╲                2\n",
       "       ╲  (A[j] - B[j]) \n",
       "0.5⋅   ╱  ──────────────\n",
       "      ╱    A[j] + B[j]  \n",
       "     ╱                  \n",
       "     ‾‾‾‾               \n",
       "    j = 1               "
      ]
     },
     "execution_count": 131,
     "metadata": {},
     "output_type": "execute_result"
    }
   ],
   "source": [
    "delta"
   ]
  },
  {
   "cell_type": "code",
   "execution_count": 136,
   "metadata": {},
   "outputs": [],
   "source": [
    "differential_delta_A = delta.diff(A[i])"
   ]
  },
  {
   "cell_type": "code",
   "execution_count": 137,
   "metadata": {},
   "outputs": [
    {
     "data": {
      "text/latex": [
       "$\\displaystyle 0.5 \\sum_{j=1}^{n} \\left(- \\frac{\\left({A}_{j} - {B}_{j}\\right)^{2} \\delta_{i j}}{\\left({A}_{j} + {B}_{j}\\right)^{2}} + \\frac{2 \\left({A}_{j} - {B}_{j}\\right) \\delta_{i j}}{{A}_{j} + {B}_{j}}\\right)$"
      ],
      "text/plain": [
       "      n                                                 \n",
       "    _____                                               \n",
       "    ╲                                                   \n",
       "     ╲    ⎛               2                            ⎞\n",
       "      ╲   ⎜  (A[j] - B[j]) ⋅δ      2⋅(A[j] - B[j])⋅δ   ⎟\n",
       "       ╲  ⎜                  i,j                    i,j⎟\n",
       "0.5⋅   ╱  ⎜- ─────────────────── + ────────────────────⎟\n",
       "      ╱   ⎜                  2         A[j] + B[j]     ⎟\n",
       "     ╱    ⎝     (A[j] + B[j])                          ⎠\n",
       "    ╱                                                   \n",
       "    ‾‾‾‾‾                                               \n",
       "    j = 1                                               "
      ]
     },
     "execution_count": 137,
     "metadata": {},
     "output_type": "execute_result"
    }
   ],
   "source": [
    "differential_delta_A"
   ]
  },
  {
   "cell_type": "code",
   "execution_count": 140,
   "metadata": {},
   "outputs": [
    {
     "name": "stdout",
     "output_type": "stream",
     "text": [
      "0.5 \\sum_{j=1}^{n} \\left(- \\frac{\\left({A}_{j} - {B}_{j}\\right)^{2} \\delta_{i j}}{\\left({A}_{j} + {B}_{j}\\right)^{2}} + \\frac{2 \\left({A}_{j} - {B}_{j}\\right) \\delta_{i j}}{{A}_{j} + {B}_{j}}\\right)\n"
     ]
    }
   ],
   "source": [
    "print_my_latex(differential_delta_A)"
   ]
  },
  {
   "cell_type": "code",
   "execution_count": 138,
   "metadata": {},
   "outputs": [],
   "source": [
    "differential_delta_B = delta.diff(B[i])"
   ]
  },
  {
   "cell_type": "code",
   "execution_count": 139,
   "metadata": {},
   "outputs": [
    {
     "data": {
      "text/latex": [
       "$\\displaystyle 0.5 \\sum_{j=1}^{n} \\left(- \\frac{\\left({A}_{j} - {B}_{j}\\right)^{2} \\delta_{i j}}{\\left({A}_{j} + {B}_{j}\\right)^{2}} - \\frac{2 \\left({A}_{j} - {B}_{j}\\right) \\delta_{i j}}{{A}_{j} + {B}_{j}}\\right)$"
      ],
      "text/plain": [
       "      n                                                 \n",
       "    _____                                               \n",
       "    ╲                                                   \n",
       "     ╲    ⎛               2                            ⎞\n",
       "      ╲   ⎜  (A[j] - B[j]) ⋅δ      2⋅(A[j] - B[j])⋅δ   ⎟\n",
       "       ╲  ⎜                  i,j                    i,j⎟\n",
       "0.5⋅   ╱  ⎜- ─────────────────── - ────────────────────⎟\n",
       "      ╱   ⎜                  2         A[j] + B[j]     ⎟\n",
       "     ╱    ⎝     (A[j] + B[j])                          ⎠\n",
       "    ╱                                                   \n",
       "    ‾‾‾‾‾                                               \n",
       "    j = 1                                               "
      ]
     },
     "execution_count": 139,
     "metadata": {},
     "output_type": "execute_result"
    }
   ],
   "source": [
    "differential_delta_B"
   ]
  },
  {
   "cell_type": "code",
   "execution_count": 141,
   "metadata": {},
   "outputs": [
    {
     "name": "stdout",
     "output_type": "stream",
     "text": [
      "0.5 \\sum_{j=1}^{n} \\left(- \\frac{\\left({A}_{j} - {B}_{j}\\right)^{2} \\delta_{i j}}{\\left({A}_{j} + {B}_{j}\\right)^{2}} - \\frac{2 \\left({A}_{j} - {B}_{j}\\right) \\delta_{i j}}{{A}_{j} + {B}_{j}}\\right)\n"
     ]
    }
   ],
   "source": [
    "print_my_latex(differential_delta_B)"
   ]
  },
  {
   "cell_type": "markdown",
   "metadata": {},
   "source": [
    "## Using jax package"
   ]
  },
  {
   "cell_type": "code",
   "execution_count": 2,
   "metadata": {},
   "outputs": [],
   "source": [
    "# jax for differentiation to do errors\n",
    "import jax.numpy as np\n",
    "from jax import grad, jit"
   ]
  },
  {
   "cell_type": "code",
   "execution_count": 96,
   "metadata": {},
   "outputs": [],
   "source": [
    "def calc_hist_mean(bin_areas, bin_centers):\n",
    "    \"\"\"Calculate mean of hist from value arrays.\n",
    "\n",
    "    Must use np.X functions for e.g. sum(), square(), to ensure jax can differentiate it\n",
    "    \"\"\"\n",
    "    return np.sum(bin_areas * bin_centers) / np.sum(bin_areas)"
   ]
  },
  {
   "cell_type": "code",
   "execution_count": 97,
   "metadata": {},
   "outputs": [],
   "source": [
    "mean_differential = jit(grad(calc_hist_mean, argnums=0))"
   ]
  },
  {
   "cell_type": "code",
   "execution_count": 98,
   "metadata": {},
   "outputs": [],
   "source": [
    "def calc_hist_mean_uncorrelated_error(bin_areas, bin_centers, bin_errors):\n",
    "    \"\"\"Calculate error on mean, assuming uncorrelated errors.\n",
    "\n",
    "    Uses propagation of uncertainty bia partial differentials,\n",
    "    calculated automatically using jax.\n",
    "    \"\"\"\n",
    "    # differential wrt bin_areas\n",
    "    diffs = mean_differential(bin_areas, bin_centers)\n",
    "    err_sq = np.sum(np.square((diffs * bin_errors)))\n",
    "    return np.sqrt(err_sq)"
   ]
  },
  {
   "cell_type": "code",
   "execution_count": 99,
   "metadata": {},
   "outputs": [],
   "source": [
    "def calc_hist_mean_correlated_error(bin_areas, bin_centers, error_matrix):\n",
    "    \"\"\"Get error on mean, assuming covariance matrix error_matrix\"\"\"\n",
    "    diffs = mean_differential(bin_areas, bin_centers)\n",
    "    sum_sq = diffs @ error_matrix @ diffs\n",
    "    return np.sqrt(sum_sq)"
   ]
  },
  {
   "cell_type": "code",
   "execution_count": 100,
   "metadata": {},
   "outputs": [],
   "source": [
    "def calc_hist_rms(bin_areas, bin_centers):\n",
    "    \"\"\"Calculate RMS of hist from value arrays.\n",
    "\n",
    "    Must use np.X functions for e.g. sum(), square(), to ensure jax can differentiate it\n",
    "    \"\"\"\n",
    "    mean = calc_hist_mean(bin_areas, bin_centers)\n",
    "    sum_sq = np.sum(np.square((bin_areas * bin_centers) - mean))\n",
    "    return np.sqrt(sum_sq / np.sum(bin_areas))"
   ]
  },
  {
   "cell_type": "code",
   "execution_count": 101,
   "metadata": {},
   "outputs": [],
   "source": [
    "rms_differential = jit(grad(calc_hist_rms, argnums=0))"
   ]
  },
  {
   "cell_type": "code",
   "execution_count": 102,
   "metadata": {},
   "outputs": [],
   "source": [
    "def calc_hist_rms_uncorrelated_error(bin_areas, bin_centers, bin_errors):\n",
    "    \"\"\"Calculate error on RMS, assuming uncorrelated errors.\n",
    "\n",
    "    Uses propagation of uncertainty bia partial differentials,\n",
    "    calculated automatically using jax.\n",
    "    \"\"\"\n",
    "    # differential wrt bin_areas\n",
    "    diffs = rms_differential(bin_areas, bin_centers)\n",
    "    err_sq = np.sum(np.square((diffs * bin_errors)))\n",
    "    return np.sqrt(err_sq)"
   ]
  },
  {
   "cell_type": "code",
   "execution_count": 103,
   "metadata": {},
   "outputs": [],
   "source": [
    "def calc_hist_rms_correlated_error(bin_areas, bin_centers, error_matrix):\n",
    "    \"\"\"Get error on rms, assuming covariance matrix error_matrix\"\"\"\n",
    "    diffs = rms_differential(bin_areas, bin_centers)\n",
    "    sum_sq = diffs @ error_matrix @ diffs\n",
    "    return np.sqrt(sum_sq)"
   ]
  },
  {
   "cell_type": "code",
   "execution_count": 104,
   "metadata": {},
   "outputs": [],
   "source": [
    "# YODA data\n",
    "# b.xMid, b.area, b.areaErr\n",
    "data = np.array([\n",
    "[0.07, 3.217327e-06, 3.2173265299e-06],\n",
    "[0.175, 3.168373e-05, 1.33888461041e-05],\n",
    "[0.245, 1.580508e-05, 6.73652358416e-06],\n",
    "[0.31, 4.991016e-05, 2.31488660629e-05],\n",
    "[0.37, 8.109384e-05, 2.42644843341e-05],\n",
    "[0.435, 3.298388e-05, 1.41911909296e-05],\n",
    "[0.505, 2.021112e-05, 1.03254685124e-05],\n",
    "[0.575, 2.658637e-05, 1.37631755057e-05],\n",
    "[0.805, 3.130032e-05, 1.40459495941e-05],\n",
    "])"
   ]
  },
  {
   "cell_type": "code",
   "execution_count": 105,
   "metadata": {},
   "outputs": [
    {
     "name": "stdout",
     "output_type": "stream",
     "text": [
      "[0.07  0.175 0.245 0.31  0.37  0.435 0.505 0.575 0.805]\n"
     ]
    }
   ],
   "source": [
    "centers = data[:,0]\n",
    "print(centers)"
   ]
  },
  {
   "cell_type": "code",
   "execution_count": 106,
   "metadata": {},
   "outputs": [
    {
     "name": "stdout",
     "output_type": "stream",
     "text": [
      "[3.217327e-06 3.168373e-05 1.580508e-05 4.991016e-05 8.109384e-05\n",
      " 3.298388e-05 2.021112e-05 2.658637e-05 3.130032e-05]\n"
     ]
    }
   ],
   "source": [
    "y = data[:,1]\n",
    "print(y)"
   ]
  },
  {
   "cell_type": "code",
   "execution_count": 107,
   "metadata": {},
   "outputs": [
    {
     "name": "stdout",
     "output_type": "stream",
     "text": [
      "[3.21732659e-06 1.33888461e-05 6.73652357e-06 2.31488666e-05\n",
      " 2.42644837e-05 1.41911905e-05 1.03254688e-05 1.37631760e-05\n",
      " 1.40459497e-05]\n"
     ]
    }
   ],
   "source": [
    "ey = data[:,2]\n",
    "print(ey)"
   ]
  },
  {
   "cell_type": "code",
   "execution_count": 108,
   "metadata": {},
   "outputs": [
    {
     "name": "stdout",
     "output_type": "stream",
     "text": [
      "0.41038543 0.025481813\n"
     ]
    }
   ],
   "source": [
    "mean_jax = calc_hist_mean(y, centers)\n",
    "mean_err_jax = calc_hist_mean_uncorrelated_error(y, centers, ey)\n",
    "print(mean_jax, mean_err_jax)"
   ]
  },
  {
   "cell_type": "code",
   "execution_count": 109,
   "metadata": {},
   "outputs": [
    {
     "name": "stdout",
     "output_type": "stream",
     "text": [
      "71.948135 7.208506\n"
     ]
    }
   ],
   "source": [
    "rms_jax = calc_hist_rms(y, centers)\n",
    "rms_err_jax = calc_hist_rms_uncorrelated_error(y, centers, ey)\n",
    "print(rms_jax, rms_err_jax)"
   ]
  },
  {
   "cell_type": "markdown",
   "metadata": {},
   "source": [
    "## Using uncertainties package"
   ]
  },
  {
   "cell_type": "code",
   "execution_count": 110,
   "metadata": {},
   "outputs": [],
   "source": [
    "import uncertainties\n",
    "from uncertainties import ufloat\n",
    "from uncertainties import unumpy as unp"
   ]
  },
  {
   "cell_type": "code",
   "execution_count": 111,
   "metadata": {},
   "outputs": [
    {
     "name": "stdout",
     "output_type": "stream",
     "text": [
      "[3.2173270483326633e-06+/-3.2173265935853124e-06\n",
      " 3.168372859363444e-05+/-1.3388846127782017e-05\n",
      " 1.5805080693098716e-05+/-6.736523573636077e-06\n",
      " 4.991015885025263e-05+/-2.3148866603150964e-05\n",
      " 8.109384361887351e-05+/-2.4264483727165498e-05\n",
      " 3.29838803736493e-05+/-1.4191190530254971e-05\n",
      " 2.0211120499880053e-05+/-1.0325468792871106e-05\n",
      " 2.6586369131109677e-05+/-1.3763175957137719e-05\n",
      " 3.130031836917624e-05+/-1.4045949683350045e-05]\n"
     ]
    }
   ],
   "source": [
    "arr = unp.uarray(y, ey)\n",
    "print(arr)"
   ]
  },
  {
   "cell_type": "code",
   "execution_count": 112,
   "metadata": {},
   "outputs": [
    {
     "name": "stdout",
     "output_type": "stream",
     "text": [
      "[0.07000000029802322+/-0 0.17499999701976776+/-0 0.24500000476837158+/-0\n",
      " 0.3100000023841858+/-0 0.3700000047683716+/-0 0.4350000023841858+/-0\n",
      " 0.5049999952316284+/-0 0.574999988079071+/-0 0.8050000071525574+/-0]\n"
     ]
    }
   ],
   "source": [
    "centers = unp.uarray([c for c in data[:, 0]], [0 for c in data[:, 0]])\n",
    "print(centers)"
   ]
  },
  {
   "cell_type": "code",
   "execution_count": 113,
   "metadata": {},
   "outputs": [],
   "source": [
    "def calc_umean(bin_areas, bin_centers):\n",
    "    \"\"\"Calculate mean of hist from value arrays\"\"\"\n",
    "    return (bin_areas * bin_centers).sum() / bin_areas.sum()"
   ]
  },
  {
   "cell_type": "code",
   "execution_count": 133,
   "metadata": {},
   "outputs": [
    {
     "name": "stdout",
     "output_type": "stream",
     "text": [
      "<class 'uncertainties.core.AffineScalarFunc'>\n",
      "0.410+/-0.025\n"
     ]
    }
   ],
   "source": [
    "mean_u = calc_umean(arr, centers)\n",
    "print(type(mean_u))\n",
    "print(mean_u)"
   ]
  },
  {
   "cell_type": "code",
   "execution_count": 136,
   "metadata": {},
   "outputs": [],
   "source": [
    "def calc_urms(bin_areas, bin_centers):\n",
    "    \"\"\"Calculate RMS of hist from value arrays.\n",
    "\n",
    "    Must use uncertainties functions for e.g. square()\n",
    "    \"\"\"\n",
    "    mean = calc_umean(bin_areas, bin_centers)\n",
    "    sum_sq = (((bin_areas * bin_centers) - mean)**2).sum()\n",
    "    return uncertainties.umath_core.sqrt(sum_sq / bin_areas.sum())"
   ]
  },
  {
   "cell_type": "code",
   "execution_count": 137,
   "metadata": {},
   "outputs": [
    {
     "name": "stdout",
     "output_type": "stream",
     "text": [
      "<class 'uncertainties.core.AffineScalarFunc'>\n",
      "<class 'uncertainties.core.AffineScalarFunc'>\n",
      "<class 'uncertainties.core.AffineScalarFunc'>\n",
      "71.948+/-7.209\n"
     ]
    }
   ],
   "source": [
    "rms_u = calc_urms(arr, centers)\n",
    "print(type(rms_u))\n",
    "print(f'{rms_u:.3f}')"
   ]
  },
  {
   "cell_type": "code",
   "execution_count": 138,
   "metadata": {},
   "outputs": [
    {
     "data": {
      "text/plain": [
       "71.94814485433267+/-7.2085072169945175"
      ]
     },
     "execution_count": 138,
     "metadata": {},
     "output_type": "execute_result"
    }
   ],
   "source": [
    "rms_u"
   ]
  },
  {
   "cell_type": "code",
   "execution_count": 141,
   "metadata": {},
   "outputs": [
    {
     "name": "stdout",
     "output_type": "stream",
     "text": [
      "% difference in means: -7.2620323e-06\n",
      "% difference in mean uncertainty: 7.3097044e-06\n"
     ]
    }
   ],
   "source": [
    "print('% difference in means:', 100*(mean_jax - mean_u.nominal_value)/mean_jax)\n",
    "print('% difference in mean uncertainty:', 100*(mean_err_jax - mean_u.std_dev)/mean_err_jax)"
   ]
  },
  {
   "cell_type": "code",
   "execution_count": 142,
   "metadata": {},
   "outputs": [
    {
     "name": "stdout",
     "output_type": "stream",
     "text": [
      "% difference in RMSs: -1.060402e-05\n",
      "% difference in RMS uncertainty: -1.3229846e-05\n"
     ]
    }
   ],
   "source": [
    "print('% difference in RMSs:', 100*(rms_jax - rms_u.nominal_value)/rms_jax)\n",
    "print('% difference in RMS uncertainty:', 100*(rms_err_jax - rms_u.std_dev)/rms_err_jax)"
   ]
  },
  {
   "cell_type": "code",
   "execution_count": null,
   "metadata": {},
   "outputs": [],
   "source": []
  }
 ],
 "metadata": {
  "kernelspec": {
   "display_name": "Python 3",
   "language": "python",
   "name": "python3"
  },
  "language_info": {
   "codemirror_mode": {
    "name": "ipython",
    "version": 3
   },
   "file_extension": ".py",
   "mimetype": "text/x-python",
   "name": "python",
   "nbconvert_exporter": "python",
   "pygments_lexer": "ipython3",
   "version": "3.7.5"
  }
 },
 "nbformat": 4,
 "nbformat_minor": 2
}
