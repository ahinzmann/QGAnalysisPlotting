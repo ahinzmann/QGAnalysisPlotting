{
 "cells": [
  {
   "cell_type": "markdown",
   "metadata": {},
   "source": [
    "This notebook demonstrates the use of variable 2D binning in unfolding, here unfolding pT & LHA, where for each pT bin we have a different LHA binning scheme."
   ]
  },
  {
   "cell_type": "code",
   "execution_count": 2,
   "metadata": {},
   "outputs": [
    {
     "name": "stdout",
     "output_type": "stream",
     "text": [
      "Welcome to JupyROOT 6.18/04\n"
     ]
    }
   ],
   "source": [
    "import ROOT"
   ]
  },
  {
   "cell_type": "code",
   "execution_count": 124,
   "metadata": {},
   "outputs": [],
   "source": [
    "import random, bisect\n",
    "from array import array\n",
    "import numpy as np\n",
    "from copy import copy"
   ]
  },
  {
   "cell_type": "code",
   "execution_count": 4,
   "metadata": {},
   "outputs": [],
   "source": [
    "def construct_fine_binning(coarse_bin_edges):\n",
    "    fine_bin_edges = []\n",
    "    for x, y in zip(coarse_bin_edges[:-1], coarse_bin_edges[1:]):\n",
    "        fine_bin_edges.append(x)\n",
    "        fine_bin_edges.append(0.5*(x+y))\n",
    "    fine_bin_edges.append(coarse_bin_edges[-1])\n",
    "    return np.array(fine_bin_edges, dtype='d')"
   ]
  },
  {
   "cell_type": "code",
   "execution_count": 43,
   "metadata": {},
   "outputs": [],
   "source": [
    "pt_bin_edges_gen = np.array([50, 65, 75, 110], dtype='d')"
   ]
  },
  {
   "cell_type": "code",
   "execution_count": 44,
   "metadata": {},
   "outputs": [],
   "source": [
    "pt_bin_edges_reco = construct_fine_binning(pt_bin_edges_gen)"
   ]
  },
  {
   "cell_type": "code",
   "execution_count": 167,
   "metadata": {},
   "outputs": [
    {
     "data": {
      "text/plain": [
       "array([ 50. ,  57.5,  65. ,  70. ,  75. ,  92.5, 110. ])"
      ]
     },
     "execution_count": 167,
     "metadata": {},
     "output_type": "execute_result"
    }
   ],
   "source": [
    "pt_bin_edges_reco"
   ]
  },
  {
   "cell_type": "code",
   "execution_count": 77,
   "metadata": {},
   "outputs": [],
   "source": [
    "variable_bin_edges_gen = [\n",
    "    np.array([0, 0.1, 0.5, 1.], dtype='d'),\n",
    "    np.array([0, 0.1, 0.25, 0.5, 1.], dtype='d'),\n",
    "    np.array([0, 0.1, 0.2, 0.3, 0.4, 0.5, 0.6, 0.7, 0.8, 0.9, 1.], dtype='d')\n",
    "]"
   ]
  },
  {
   "cell_type": "code",
   "execution_count": 78,
   "metadata": {},
   "outputs": [],
   "source": [
    "variable_bin_edges_reco = [construct_fine_binning(x) for x in variable_bin_edges_gen]"
   ]
  },
  {
   "cell_type": "code",
   "execution_count": 79,
   "metadata": {},
   "outputs": [],
   "source": [
    "variable_bin_edges_reco = []\n",
    "for x in [construct_fine_binning(x) for x in variable_bin_edges_gen]:\n",
    "    variable_bin_edges_reco.append(x)\n",
    "    variable_bin_edges_reco.append(x)"
   ]
  },
  {
   "cell_type": "code",
   "execution_count": 80,
   "metadata": {},
   "outputs": [
    {
     "data": {
      "text/plain": [
       "[array([0.  , 0.05, 0.1 , 0.3 , 0.5 , 0.75, 1.  ]),\n",
       " array([0.  , 0.05, 0.1 , 0.3 , 0.5 , 0.75, 1.  ]),\n",
       " array([0.   , 0.05 , 0.1  , 0.175, 0.25 , 0.375, 0.5  , 0.75 , 1.   ]),\n",
       " array([0.   , 0.05 , 0.1  , 0.175, 0.25 , 0.375, 0.5  , 0.75 , 1.   ]),\n",
       " array([0.  , 0.05, 0.1 , 0.15, 0.2 , 0.25, 0.3 , 0.35, 0.4 , 0.45, 0.5 ,\n",
       "        0.55, 0.6 , 0.65, 0.7 , 0.75, 0.8 , 0.85, 0.9 , 0.95, 1.  ]),\n",
       " array([0.  , 0.05, 0.1 , 0.15, 0.2 , 0.25, 0.3 , 0.35, 0.4 , 0.45, 0.5 ,\n",
       "        0.55, 0.6 , 0.65, 0.7 , 0.75, 0.8 , 0.85, 0.9 , 0.95, 1.  ])]"
      ]
     },
     "execution_count": 80,
     "metadata": {},
     "output_type": "execute_result"
    }
   ],
   "source": [
    "variable_bin_edges_reco"
   ]
  },
  {
   "cell_type": "code",
   "execution_count": 81,
   "metadata": {},
   "outputs": [
    {
     "data": {
      "text/plain": [
       "0"
      ]
     },
     "execution_count": 81,
     "metadata": {},
     "output_type": "execute_result"
    },
    {
     "name": "stderr",
     "output_type": "stream",
     "text": [
      "\u001b[1minput_line_78:2:7: \u001b[0m\u001b[0;1;31merror: \u001b[0m\u001b[1mredefinition of 'BinningXMLExporter'\u001b[0m\n",
      "class BinningXMLExporter {\n",
      "\u001b[0;1;32m      ^\n",
      "\u001b[0m\u001b[1minput_line_33:2:7: \u001b[0m\u001b[0;1;30mnote: \u001b[0mprevious definition is here\u001b[0m\n",
      "class BinningXMLExporter {\n",
      "\u001b[0;1;32m      ^\n",
      "\u001b[0m"
     ]
    }
   ],
   "source": [
    "# To be able to export to XML, since getting std::ostream from python is impossible?\n",
    "my_binning_xml_code = \"\"\"\n",
    "class BinningXMLExporter {\n",
    "public:\n",
    "    BinningXMLExporter() {cout << \" Creating BinningXMLExporter \" << endl;}\n",
    "\n",
    "    static Int_t ExportXML(const TUnfoldBinning &binning,\n",
    "                           std::string dirname,\n",
    "                           std::string filename,\n",
    "                           Bool_t writeHeader,\n",
    "                           Bool_t writeFooter,\n",
    "                           Int_t indent=0) {\n",
    "\n",
    "        ofstream dtdFile(TString::Format(\"%s/tunfoldbinning.dtd\", dirname.c_str()));\n",
    "        TUnfoldBinningXML::WriteDTD(dtdFile);\n",
    "        dtdFile.close();\n",
    "\n",
    "        ofstream xmlfile;\n",
    "        xmlfile.open(TString::Format(\"%s/%s\", dirname.c_str(), filename.c_str()), ios::out);\n",
    "        Int_t result = TUnfoldBinningXML::ExportXML(binning, xmlfile, writeHeader, writeFooter, indent);\n",
    "        xmlfile.close();\n",
    "        return result;\n",
    "    }\n",
    "};\n",
    "\"\"\"\n",
    "ROOT.gInterpreter.ProcessLine(my_binning_xml_code)"
   ]
  },
  {
   "cell_type": "code",
   "execution_count": 82,
   "metadata": {},
   "outputs": [],
   "source": [
    "# Here is the magic to setup the binning\n",
    "# We add each pT bin as a new TUnfoldBinning\n",
    "# Then within that object, we can specify whatever LHA binning we like\n",
    "# The only downside is that to get the global bin number,\n",
    "# we have to manually lookup which node we need (see later)\n",
    "generator_binning = ROOT.TUnfoldBinning(\"generator\")\n",
    "for pt_ind, pt in enumerate(pt_bin_edges_gen[:-1]):\n",
    "    generator_distribution = generator_binning.AddBinning(\"pt_%d\" % pt_ind)\n",
    "    # I guess it isn't strictly necessary to add pt, since it's only 1 bin\n",
    "    # Pros: can double check pt is actually in this bin?\n",
    "    # Cons: unnecessary lookup, may make things slower?\n",
    "    generator_distribution.AddAxis(\"pt\", 1, array('d', [pt, pt_bin_edges_gen[pt_ind+1]]), False, False)  # ignore under/overflow for now\n",
    "    generator_distribution.AddAxis(\"lha\", len(variable_bin_edges_gen[pt_ind])-1, variable_bin_edges_gen[pt_ind], False, False)"
   ]
  },
  {
   "cell_type": "code",
   "execution_count": 83,
   "metadata": {},
   "outputs": [],
   "source": [
    "detector_binning = ROOT.TUnfoldBinning(\"detector\")\n",
    "for pt_ind, pt in enumerate(pt_bin_edges_reco[:-1]):\n",
    "    detector_distribution = detector_binning.AddBinning(\"pt_%d\" % pt_ind)\n",
    "    detector_distribution.AddAxis(\"pt\", 1, array('d', [pt, pt_bin_edges_reco[pt_ind+1]]), False, False)\n",
    "    detector_distribution.AddAxis(\"lha\", len(variable_bin_edges_reco[pt_ind])-1, variable_bin_edges_reco[pt_ind], False, False)\n"
   ]
  },
  {
   "cell_type": "code",
   "execution_count": 84,
   "metadata": {},
   "outputs": [
    {
     "data": {
      "text/plain": [
       "1"
      ]
     },
     "execution_count": 84,
     "metadata": {},
     "output_type": "execute_result"
    }
   ],
   "source": [
    "ROOT.BinningXMLExporter.ExportXML(generator_binning, \".\", \"test_generator_binning.xml\", True, True, 2)\n",
    "ROOT.BinningXMLExporter.ExportXML(detector_binning, \".\", \"test_detector_binning.xml\", True, True, 2)"
   ]
  },
  {
   "cell_type": "code",
   "execution_count": 85,
   "metadata": {},
   "outputs": [
    {
     "name": "stdout",
     "output_type": "stream",
     "text": [
      "17 total gen bins\n",
      "#0\n",
      "#1 (pt_0:lha[0,0.1]:pt[50,65])\n",
      "#2 (pt_0:lha[0.1,0.5]:pt[50,65])\n",
      "#3 (pt_0:lha[0.5,1]:pt[50,65])\n",
      "#4 (pt_1:lha[0,0.1]:pt[65,75])\n",
      "#5 (pt_1:lha[0.1,0.25]:pt[65,75])\n",
      "#6 (pt_1:lha[0.25,0.5]:pt[65,75])\n",
      "#7 (pt_1:lha[0.5,1]:pt[65,75])\n",
      "#8 (pt_2:lha[0,0.1]:pt[75,110])\n",
      "#9 (pt_2:lha[0.1,0.2]:pt[75,110])\n",
      "#10 (pt_2:lha[0.2,0.3]:pt[75,110])\n",
      "#11 (pt_2:lha[0.3,0.4]:pt[75,110])\n",
      "#12 (pt_2:lha[0.4,0.5]:pt[75,110])\n",
      "#13 (pt_2:lha[0.5,0.6]:pt[75,110])\n",
      "#14 (pt_2:lha[0.6,0.7]:pt[75,110])\n",
      "#15 (pt_2:lha[0.7,0.8]:pt[75,110])\n",
      "#16 (pt_2:lha[0.8,0.9]:pt[75,110])\n",
      "#17 (pt_2:lha[0.9,1]:pt[75,110])\n"
     ]
    }
   ],
   "source": [
    "total_gen_bins = sum(len(x)-1 for x in variable_bin_edges_gen)\n",
    "\n",
    "print(total_gen_bins, \"total gen bins\")\n",
    "\n",
    "for i in range(total_gen_bins+1):\n",
    "    print(generator_binning.GetBinName(i))"
   ]
  },
  {
   "cell_type": "code",
   "execution_count": 86,
   "metadata": {},
   "outputs": [
    {
     "name": "stdout",
     "output_type": "stream",
     "text": [
      "68 total reco bins\n",
      "#0\n",
      "#1 (pt_0:lha[0,0.05]:pt[50,57.5])\n",
      "#2 (pt_0:lha[0.05,0.1]:pt[50,57.5])\n",
      "#3 (pt_0:lha[0.1,0.3]:pt[50,57.5])\n",
      "#4 (pt_0:lha[0.3,0.5]:pt[50,57.5])\n",
      "#5 (pt_0:lha[0.5,0.75]:pt[50,57.5])\n",
      "#6 (pt_0:lha[0.75,1]:pt[50,57.5])\n",
      "#7 (pt_1:lha[0,0.05]:pt[57.5,65])\n",
      "#8 (pt_1:lha[0.05,0.1]:pt[57.5,65])\n",
      "#9 (pt_1:lha[0.1,0.3]:pt[57.5,65])\n",
      "#10 (pt_1:lha[0.3,0.5]:pt[57.5,65])\n",
      "#11 (pt_1:lha[0.5,0.75]:pt[57.5,65])\n",
      "#12 (pt_1:lha[0.75,1]:pt[57.5,65])\n",
      "#13 (pt_2:lha[0,0.05]:pt[65,70])\n",
      "#14 (pt_2:lha[0.05,0.1]:pt[65,70])\n",
      "#15 (pt_2:lha[0.1,0.175]:pt[65,70])\n",
      "#16 (pt_2:lha[0.175,0.25]:pt[65,70])\n",
      "#17 (pt_2:lha[0.25,0.375]:pt[65,70])\n",
      "#18 (pt_2:lha[0.375,0.5]:pt[65,70])\n",
      "#19 (pt_2:lha[0.5,0.75]:pt[65,70])\n",
      "#20 (pt_2:lha[0.75,1]:pt[65,70])\n",
      "#21 (pt_3:lha[0,0.05]:pt[70,75])\n",
      "#22 (pt_3:lha[0.05,0.1]:pt[70,75])\n",
      "#23 (pt_3:lha[0.1,0.175]:pt[70,75])\n",
      "#24 (pt_3:lha[0.175,0.25]:pt[70,75])\n",
      "#25 (pt_3:lha[0.25,0.375]:pt[70,75])\n",
      "#26 (pt_3:lha[0.375,0.5]:pt[70,75])\n",
      "#27 (pt_3:lha[0.5,0.75]:pt[70,75])\n",
      "#28 (pt_3:lha[0.75,1]:pt[70,75])\n",
      "#29 (pt_4:lha[0,0.05]:pt[75,92.5])\n",
      "#30 (pt_4:lha[0.05,0.1]:pt[75,92.5])\n",
      "#31 (pt_4:lha[0.1,0.15]:pt[75,92.5])\n",
      "#32 (pt_4:lha[0.15,0.2]:pt[75,92.5])\n",
      "#33 (pt_4:lha[0.2,0.25]:pt[75,92.5])\n",
      "#34 (pt_4:lha[0.25,0.3]:pt[75,92.5])\n",
      "#35 (pt_4:lha[0.3,0.35]:pt[75,92.5])\n",
      "#36 (pt_4:lha[0.35,0.4]:pt[75,92.5])\n",
      "#37 (pt_4:lha[0.4,0.45]:pt[75,92.5])\n",
      "#38 (pt_4:lha[0.45,0.5]:pt[75,92.5])\n",
      "#39 (pt_4:lha[0.5,0.55]:pt[75,92.5])\n",
      "#40 (pt_4:lha[0.55,0.6]:pt[75,92.5])\n",
      "#41 (pt_4:lha[0.6,0.65]:pt[75,92.5])\n",
      "#42 (pt_4:lha[0.65,0.7]:pt[75,92.5])\n",
      "#43 (pt_4:lha[0.7,0.75]:pt[75,92.5])\n",
      "#44 (pt_4:lha[0.75,0.8]:pt[75,92.5])\n",
      "#45 (pt_4:lha[0.8,0.85]:pt[75,92.5])\n",
      "#46 (pt_4:lha[0.85,0.9]:pt[75,92.5])\n",
      "#47 (pt_4:lha[0.9,0.95]:pt[75,92.5])\n",
      "#48 (pt_4:lha[0.95,1]:pt[75,92.5])\n",
      "#49 (pt_5:lha[0,0.05]:pt[92.5,110])\n",
      "#50 (pt_5:lha[0.05,0.1]:pt[92.5,110])\n",
      "#51 (pt_5:lha[0.1,0.15]:pt[92.5,110])\n",
      "#52 (pt_5:lha[0.15,0.2]:pt[92.5,110])\n",
      "#53 (pt_5:lha[0.2,0.25]:pt[92.5,110])\n",
      "#54 (pt_5:lha[0.25,0.3]:pt[92.5,110])\n",
      "#55 (pt_5:lha[0.3,0.35]:pt[92.5,110])\n",
      "#56 (pt_5:lha[0.35,0.4]:pt[92.5,110])\n",
      "#57 (pt_5:lha[0.4,0.45]:pt[92.5,110])\n",
      "#58 (pt_5:lha[0.45,0.5]:pt[92.5,110])\n",
      "#59 (pt_5:lha[0.5,0.55]:pt[92.5,110])\n",
      "#60 (pt_5:lha[0.55,0.6]:pt[92.5,110])\n",
      "#61 (pt_5:lha[0.6,0.65]:pt[92.5,110])\n",
      "#62 (pt_5:lha[0.65,0.7]:pt[92.5,110])\n",
      "#63 (pt_5:lha[0.7,0.75]:pt[92.5,110])\n",
      "#64 (pt_5:lha[0.75,0.8]:pt[92.5,110])\n",
      "#65 (pt_5:lha[0.8,0.85]:pt[92.5,110])\n",
      "#66 (pt_5:lha[0.85,0.9]:pt[92.5,110])\n",
      "#67 (pt_5:lha[0.9,0.95]:pt[92.5,110])\n",
      "#68 (pt_5:lha[0.95,1]:pt[92.5,110])\n"
     ]
    }
   ],
   "source": [
    "total_reco_bins = sum(len(x)-1 for x in variable_bin_edges_reco)\n",
    "\n",
    "print(total_reco_bins, \"total reco bins\")\n",
    "\n",
    "for i in range(total_reco_bins+1):\n",
    "    print(detector_binning.GetBinName(i))"
   ]
  },
  {
   "cell_type": "code",
   "execution_count": 202,
   "metadata": {},
   "outputs": [
    {
     "name": "stderr",
     "output_type": "stream",
     "text": [
      "Warning in <TROOT::Append>: Replacing existing TH1: h_gen (Potential memory leak).\n",
      "Warning in <TROOT::Append>: Replacing existing TH1: h_reco (Potential memory leak).\n",
      "Warning in <TROOT::Append>: Replacing existing TH1: response (Potential memory leak).\n"
     ]
    }
   ],
   "source": [
    "h_gen = generator_binning.CreateHistogram(\"h_gen\")\n",
    "h_reco = detector_binning.CreateHistogram(\"h_reco\")\n",
    "h_response = ROOT.TUnfoldBinning.CreateHistogramOfMigrations(generator_binning, detector_binning, \"response\")"
   ]
  },
  {
   "cell_type": "code",
   "execution_count": 189,
   "metadata": {},
   "outputs": [
    {
     "data": {
      "text/plain": [
       "4"
      ]
     },
     "execution_count": 189,
     "metadata": {},
     "output_type": "execute_result"
    }
   ],
   "source": [
    "# Example of getting TUnfoldBinning node for the 2nd pt bin\n",
    "n = generator_binning.FindNode('pt_1')\n",
    "n.GetDistributionNumberOfBins()"
   ]
  },
  {
   "cell_type": "code",
   "execution_count": 190,
   "metadata": {},
   "outputs": [
    {
     "data": {
      "text/plain": [
       "4"
      ]
     },
     "execution_count": 190,
     "metadata": {},
     "output_type": "execute_result"
    }
   ],
   "source": [
    "n.GetGlobalBinNumber(69, 0.01)"
   ]
  },
  {
   "cell_type": "code",
   "execution_count": 191,
   "metadata": {},
   "outputs": [
    {
     "data": {
      "text/plain": [
       "0"
      ]
     },
     "execution_count": 191,
     "metadata": {},
     "output_type": "execute_result"
    }
   ],
   "source": [
    "n.GetGlobalBinNumber(99, 0.01)  # returns 0 as pT out of bounds"
   ]
  },
  {
   "cell_type": "code",
   "execution_count": 192,
   "metadata": {},
   "outputs": [
    {
     "data": {
      "text/plain": [
       "1"
      ]
     },
     "execution_count": 192,
     "metadata": {},
     "output_type": "execute_result"
    }
   ],
   "source": [
    "# In python the easiest way to lookup the bin is to use bisect\n",
    "# note that this will give you the bin AFTER the one you want, \n",
    "# so we have to subtract 1\n",
    "bisect.bisect_left(pt_bin_edges_gen, 51)"
   ]
  },
  {
   "cell_type": "markdown",
   "metadata": {},
   "source": [
    "Here we will do an example unfolding. I first generate an event at generator level: pT is uniform between the minimum and maximum bins. LHA is a $\\beta(2, 5)$ distribution, which naturally falls in $(0, 1)$ and for this $(\\alpha, \\beta)$ has a peak at smaller values.\n",
    "\n",
    "Then my corresponding detector values are Gaussian-smeared versions of those values, each with a resolution of 10\\%.\n",
    "\n",
    "These then go into my response matrix (with a check that the detector pT is within the bounds).\n",
    "\n",
    "Note the use of `bisect` to get the right node, to be able to get the GlobalBinNumber.\n",
    "\n",
    "Note that if you don't add `pt` as a dimension to the binning scheme, you need to change the call to `GetGlobalbinNumber()`."
   ]
  },
  {
   "cell_type": "code",
   "execution_count": 218,
   "metadata": {},
   "outputs": [],
   "source": [
    "for i in range(50000):\n",
    "    gen_pt = random.uniform(pt_bin_edges_gen[0], pt_bin_edges_gen[-1])\n",
    "    gen_lha = random.betavariate(2, 5)\n",
    "    gen_pt_bin = bisect.bisect_left(pt_bin_edges_gen, gen_pt)-1\n",
    "    gen_binning = generator_binning.FindNode('pt_%d' % gen_pt_bin)\n",
    "    gen_bin = gen_binning.GetGlobalBinNumber(gen_pt, gen_lha)\n",
    "#     h_gen.Fill(gen_bin)\n",
    "#     print(gen_pt, gen_lha, gen_pt_bin, gen_bin)\n",
    "    \n",
    "    reco_pt = random.gauss(gen_pt, 0.1*gen_pt)\n",
    "    reco_lha = random.gauss(gen_lha, 0.1*gen_lha)\n",
    "    reco_pt_bin = bisect.bisect_left(pt_bin_edges_reco, reco_pt) - 1\n",
    "    reco_bin = 0\n",
    "    if reco_pt_bin >= 0 and reco_pt < pt_bin_edges_reco[-1]:\n",
    "        reco_binning = detector_binning.FindNode('pt_%d' % reco_pt_bin)\n",
    "        reco_bin = reco_binning.GetGlobalBinNumber(reco_pt, reco_lha)\n",
    "#         h_reco.Fill(reco_bin)\n",
    "        \n",
    "#         print(reco_pt, reco_lha, reco_pt_bin, reco_bin)\n",
    "\n",
    "    h_response.Fill(gen_bin, reco_bin)"
   ]
  },
  {
   "cell_type": "markdown",
   "metadata": {},
   "source": [
    "Here I can fill the 1D gen & reco hists with statistically independent event, for cross-checking."
   ]
  },
  {
   "cell_type": "code",
   "execution_count": 219,
   "metadata": {},
   "outputs": [],
   "source": [
    "for i in range(1000):\n",
    "    gen_pt = random.uniform(pt_bin_edges_gen[0], pt_bin_edges_gen[-1])\n",
    "    gen_lha = random.betavariate(2, 5)\n",
    "    gen_pt_bin = bisect.bisect_left(pt_bin_edges_gen, gen_pt)-1\n",
    "    gen_binning = generator_binning.FindNode('pt_%d' % gen_pt_bin)\n",
    "    gen_bin = gen_binning.GetGlobalBinNumber(gen_pt, gen_lha)\n",
    "    h_gen.Fill(gen_bin)\n",
    "    \n",
    "    reco_pt = random.gauss(gen_pt, 0.1*gen_pt)\n",
    "    reco_lha = random.gauss(gen_lha, 0.1*gen_lha)\n",
    "    reco_pt_bin = bisect.bisect_left(pt_bin_edges_reco, reco_pt) - 1\n",
    "    reco_bin = 0\n",
    "    if reco_pt_bin >= 0 and reco_pt < pt_bin_edges_reco[-1]:\n",
    "        reco_binning = detector_binning.FindNode('pt_%d' % reco_pt_bin)\n",
    "        reco_bin = reco_binning.GetGlobalBinNumber(reco_pt, reco_lha)\n",
    "        h_reco.Fill(reco_bin)\n",
    "        "
   ]
  },
  {
   "cell_type": "code",
   "execution_count": 220,
   "metadata": {},
   "outputs": [
    {
     "name": "stderr",
     "output_type": "stream",
     "text": [
      "Warning in <TCanvas::Constructor>: Deleting canvas with same name: c\n"
     ]
    },
    {
     "data": {
      "image/png": "[encoded data removed]",
      "text/plain": [
       "<IPython.core.display.Image object>"
      ]
     },
     "metadata": {},
     "output_type": "display_data"
    }
   ],
   "source": [
    "c = ROOT.TCanvas(\"c\", \"\", 600, 600)\n",
    "h_response.Draw(\"COLZ\")\n",
    "c.Draw()"
   ]
  },
  {
   "cell_type": "code",
   "execution_count": 221,
   "metadata": {},
   "outputs": [
    {
     "name": "stderr",
     "output_type": "stream",
     "text": [
      "Warning in <TCanvas::Constructor>: Deleting canvas with same name: c\n"
     ]
    },
    {
     "data": {
      "image/png": "[encoded data removed]",
      "text/plain": [
       "<IPython.core.display.Image object>"
      ]
     },
     "metadata": {},
     "output_type": "display_data"
    }
   ],
   "source": [
    "c = ROOT.TCanvas(\"c\", \"\", 600, 600)\n",
    "# Compare the x projection with 1D gen hist\n",
    "proj_x = h_response.ProjectionX(\"_projx\")\n",
    "proj_x.SetLineColor(ROOT.kRed)\n",
    "proj_x.SetLineStyle(2)\n",
    "h_gen.Draw(\"hist e\")\n",
    "# proj_x.Draw(\"SAME HISTE\")\n",
    "# r = ROOT.TRatioPlot(h_gen, proj_x)\n",
    "# r.Draw(\"grid\")\n",
    "c.Draw()"
   ]
  },
  {
   "cell_type": "code",
   "execution_count": 222,
   "metadata": {},
   "outputs": [
    {
     "name": "stderr",
     "output_type": "stream",
     "text": [
      "Warning in <TCanvas::Constructor>: Deleting canvas with same name: c\n"
     ]
    },
    {
     "data": {
      "image/png": "[encoded data removed]",
      "text/plain": [
       "<IPython.core.display.Image object>"
      ]
     },
     "metadata": {},
     "output_type": "display_data"
    }
   ],
   "source": [
    "c = ROOT.TCanvas(\"c\", \"\", 600, 600)\n",
    "# compare the y projection with 1D reco hist\n",
    "proj_y = h_response.ProjectionY(\"_projy\")\n",
    "proj_y.SetLineColor(ROOT.kRed)\n",
    "proj_y.SetLineStyle(2)\n",
    "h_reco.Draw(\"hist e\")\n",
    "# proj_y.Draw(\"SAME HISTE\")\n",
    "# r = ROOT.TRatioPlot(h_reco, proj_y)\n",
    "# r.Draw(\"grid\")\n",
    "c.Draw()"
   ]
  },
  {
   "cell_type": "code",
   "execution_count": 223,
   "metadata": {},
   "outputs": [
    {
     "name": "stderr",
     "output_type": "stream",
     "text": [
      "Info in <TUnfold::SetConstraint>: fConstraint=0\n",
      "Warning in <TUnfold::TUnfold>: 3 output bins do not depend on the input data  0 17-18\n",
      "Info in <TUnfold::TUnfold>: 68 input bins and 16 output bins\n",
      "Info in <TUnfoldDensity::TUnfold>: *NOT* unfolding bin #0\n",
      "Info in <TUnfoldDensity::TUnfold>: *NOT* unfolding bin #17 (pt_2:lha[0.9,1]:pt[75,110])\n",
      "Info in <TUnfoldDensity::TUnfold>: *NOT* unfolding bin #18\n",
      "Info in <TUnfoldDensity::RegularizeOneDistribution>: regularizing generator regMode=3 densityMode=1 axisSteering=*[UOB]\n",
      "Info in <TUnfoldDensity::RegularizeOneDistribution>: regularizing pt_0 regMode=3 densityMode=1 axisSteering=*[UOB]\n",
      "Info in <TUnfoldDensity::RegularizeOneDistribution>: regularizing pt_1 regMode=3 densityMode=1 axisSteering=*[UOB]\n",
      "Info in <TUnfoldDensity::RegularizeOneDistribution>: regularizing pt_2 regMode=3 densityMode=1 axisSteering=*[UOB]\n"
     ]
    }
   ],
   "source": [
    "# Setup the TUnfoldDensity object\n",
    "unfolder = ROOT.TUnfoldDensity(h_response, \n",
    "                               ROOT.TUnfold.kHistMapOutputHoriz,\n",
    "                               ROOT.TUnfold.kRegModeCurvature,\n",
    "                               ROOT.TUnfold.kEConstraintNone,\n",
    "                               ROOT.TUnfoldDensity.kDensityModeBinWidth,\n",
    "                               generator_binning,\n",
    "                               detector_binning\n",
    "                              )"
   ]
  },
  {
   "cell_type": "code",
   "execution_count": 224,
   "metadata": {},
   "outputs": [
    {
     "name": "stderr",
     "output_type": "stream",
     "text": [
      "Warning in <TUnfoldDensity::SetInput>: 3/68 input bins have zero error, and are ignored.\n",
      "Warning in <TUnfoldBinning::CreateHistogram>: Original binning can not be represented as THxx\n",
      "Warning in <TROOT::Append>: Replacing existing TH1: Unfolded (Potential memory leak).\n"
     ]
    }
   ],
   "source": [
    "# Give it the input to unfold, and do unregularised unfolding\n",
    "unfolder.SetInput(h_reco)\n",
    "unfolder.DoUnfold(0)\n",
    "h_unfold = unfolder.GetOutput(\"Unfolded\")"
   ]
  },
  {
   "cell_type": "code",
   "execution_count": 226,
   "metadata": {},
   "outputs": [
    {
     "name": "stderr",
     "output_type": "stream",
     "text": [
      "Warning in <TCanvas::Constructor>: Deleting canvas with same name: c\n"
     ]
    },
    {
     "data": {
      "image/png": "[encoded data removed]",
      "text/plain": [
       "<IPython.core.display.Image object>"
      ]
     },
     "metadata": {},
     "output_type": "display_data"
    }
   ],
   "source": [
    "# Compare gen with unfolded\n",
    "c = ROOT.TCanvas(\"c\", \"\", 600, 600)\n",
    "h_unfold.SetLineColor(ROOT.kRed)\n",
    "h_unfold.SetMarkerColor(ROOT.kRed)\n",
    "h_unfold.SetLineStyle(2)\n",
    "h_gen.Draw(\"hist e\")\n",
    "h_unfold.Draw(\"hist e same\")\n",
    "# r = ROOT.TRatioPlot(h_gen, h_unfold)\n",
    "# r.Draw(\"grid\")\n",
    "leg = ROOT.TLegend(0.65, 0.65, 0.85, 0.8)\n",
    "leg.AddEntry(h_gen, \"gen\", \"L\")\n",
    "leg.AddEntry(h_unfold, \"unfolded\", \"L\")\n",
    "leg.Draw()\n",
    "c.Draw()"
   ]
  },
  {
   "cell_type": "code",
   "execution_count": null,
   "metadata": {},
   "outputs": [],
   "source": []
  }
 ],
 "metadata": {
  "kernelspec": {
   "display_name": "Python 3",
   "language": "python",
   "name": "python3"
  },
  "language_info": {
   "codemirror_mode": {
    "name": "ipython",
    "version": 3
   },
   "file_extension": ".py",
   "mimetype": "text/x-python",
   "name": "python",
   "nbconvert_exporter": "python",
   "pygments_lexer": "ipython3",
   "version": "3.7.5"
  }
 },
 "nbformat": 4,
 "nbformat_minor": 2
}
