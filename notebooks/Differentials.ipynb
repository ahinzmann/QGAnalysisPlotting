{
 "cells": [
  {
   "cell_type": "markdown",
   "metadata": {},
   "source": [
    "This notebook is to do the differentiation of mean, RMS, delta - all the summary statistics used in the analysis.\n",
    "This is because I am too lazy to do it myself, and I'm curious how sympy does it."
   ]
  },
  {
   "cell_type": "code",
   "execution_count": 1,
   "metadata": {},
   "outputs": [],
   "source": [
    "from sympy import *"
   ]
  },
  {
   "cell_type": "code",
   "execution_count": 80,
   "metadata": {},
   "outputs": [],
   "source": [
    "# MUCH better latex printing of index variables\n",
    "from sympy.printing.latex import LatexPrinter\n",
    "\n",
    "class CustomLatexPrinter(LatexPrinter):\n",
    "    def _print_Idx(self, expr):\n",
    "        return expr.name\n",
    "\n",
    "    @classmethod\n",
    "    def printer(cls, expr, **kwargs):\n",
    "        return cls(kwargs).doprint(expr)\n",
    "\n",
    "init_printing(use_latex='mathjax', latex_printer=CustomLatexPrinter.printer)\n",
    "\n",
    "def print_my_latex(expr):\n",
    "    \"\"\" Most of the printers define their own wrappers for print().\n",
    "    These wrappers usually take printer settings. Our printer does not have\n",
    "    any settings.\n",
    "    \"\"\"\n",
    "    print(CustomLatexPrinter().doprint(expr))"
   ]
  },
  {
   "cell_type": "markdown",
   "metadata": {},
   "source": [
    "## Basic playing"
   ]
  },
  {
   "cell_type": "code",
   "execution_count": 2,
   "metadata": {},
   "outputs": [],
   "source": [
    "x, y, z = symbols('x y z')"
   ]
  },
  {
   "cell_type": "code",
   "execution_count": 3,
   "metadata": {},
   "outputs": [
    {
     "data": {
      "text/latex": [
       "$\\displaystyle 2 x e^{x^{2}}$"
      ],
      "text/plain": [
       "2*x*exp(x**2)"
      ]
     },
     "execution_count": 3,
     "metadata": {},
     "output_type": "execute_result"
    }
   ],
   "source": [
    "diff(exp(x**2), x)"
   ]
  },
  {
   "cell_type": "code",
   "execution_count": 8,
   "metadata": {},
   "outputs": [
    {
     "name": "stdout",
     "output_type": "stream",
     "text": [
      "2 x e^{x^{2}}\n"
     ]
    }
   ],
   "source": [
    "print(latex(diff(exp(x**2), x)))"
   ]
  },
  {
   "cell_type": "markdown",
   "metadata": {},
   "source": [
    "## Mean"
   ]
  },
  {
   "cell_type": "markdown",
   "metadata": {},
   "source": [
    "$$\\langle f \\rangle = \\frac{\\sum_i A_ix_i}{\\sum_i A_i}$$"
   ]
  },
  {
   "cell_type": "code",
   "execution_count": 98,
   "metadata": {},
   "outputs": [],
   "source": [
    "A = IndexedBase('A')\n",
    "x = IndexedBase('x')\n",
    "k, n = symbols('k n', cls=Idx)\n",
    "i, j = symbols('i j', cls=Idx)\n",
    "mean = Sum(A[k]*x[k], (k, 1, n)) / Sum(A[k], (k, 1, n))"
   ]
  },
  {
   "cell_type": "code",
   "execution_count": 99,
   "metadata": {},
   "outputs": [
    {
     "data": {
      "text/latex": [
       "$\\displaystyle \\frac{\\sum_{k=1}^{n} {A}_{k} {x}_{k}}{\\sum_{k=1}^{n} {A}_{k}}$"
      ],
      "text/plain": [
       "  n            \n",
       " ___           \n",
       " ╲             \n",
       "  ╲            \n",
       "  ╱   A[k]⋅x[k]\n",
       " ╱             \n",
       " ‾‾‾           \n",
       "k = 1          \n",
       "───────────────\n",
       "     n         \n",
       "    ___        \n",
       "    ╲          \n",
       "     ╲         \n",
       "     ╱   A[k]  \n",
       "    ╱          \n",
       "    ‾‾‾        \n",
       "   k = 1       "
      ]
     },
     "execution_count": 99,
     "metadata": {},
     "output_type": "execute_result"
    }
   ],
   "source": [
    "mean"
   ]
  },
  {
   "cell_type": "code",
   "execution_count": 112,
   "metadata": {},
   "outputs": [],
   "source": [
    "# important - you must use a different  Idx variable here, than used in f, otherwise it will go weird\n",
    "differential_mean = mean.diff(A[i])"
   ]
  },
  {
   "cell_type": "code",
   "execution_count": 113,
   "metadata": {},
   "outputs": [
    {
     "data": {
      "text/latex": [
       "$\\displaystyle \\frac{\\sum_{k=1}^{n} \\delta_{i k} {x}_{k}}{\\sum_{k=1}^{n} {A}_{k}} - \\frac{\\left(\\sum_{k=1}^{n} {A}_{k} {x}_{k}\\right) \\sum_{k=1}^{n} \\delta_{i k}}{\\left(\\sum_{k=1}^{n} {A}_{k}\\right)^{2}}$"
      ],
      "text/plain": [
       "  n               ⎛  n            ⎞   n       \n",
       " ___              ⎜ ___           ⎟  ___      \n",
       " ╲                ⎜ ╲             ⎟  ╲        \n",
       "  ╲   δ   ⋅x[k]   ⎜  ╲            ⎟   ╲   δ   \n",
       "  ╱    i,k        ⎜  ╱   A[k]⋅x[k]⎟⋅  ╱    i,k\n",
       " ╱                ⎜ ╱             ⎟  ╱        \n",
       " ‾‾‾              ⎜ ‾‾‾           ⎟  ‾‾‾      \n",
       "k = 1             ⎝k = 1          ⎠ k = 1     \n",
       "─────────────── - ────────────────────────────\n",
       "     n                               2        \n",
       "    ___                  ⎛  n       ⎞         \n",
       "    ╲                    ⎜ ___      ⎟         \n",
       "     ╲                   ⎜ ╲        ⎟         \n",
       "     ╱   A[k]            ⎜  ╲       ⎟         \n",
       "    ╱                    ⎜  ╱   A[k]⎟         \n",
       "    ‾‾‾                  ⎜ ╱        ⎟         \n",
       "   k = 1                 ⎜ ‾‾‾      ⎟         \n",
       "                         ⎝k = 1     ⎠         "
      ]
     },
     "execution_count": 113,
     "metadata": {},
     "output_type": "execute_result"
    }
   ],
   "source": [
    "differential_mean"
   ]
  },
  {
   "cell_type": "code",
   "execution_count": 114,
   "metadata": {},
   "outputs": [
    {
     "name": "stdout",
     "output_type": "stream",
     "text": [
      "  n               ⎛  n            ⎞   n       \n",
      " ___              ⎜ ___           ⎟  ___      \n",
      " ╲                ⎜ ╲             ⎟  ╲        \n",
      "  ╲   δ   ⋅x[k]   ⎜  ╲            ⎟   ╲   δ   \n",
      "  ╱    i,k        ⎜  ╱   A[k]⋅x[k]⎟⋅  ╱    i,k\n",
      " ╱                ⎜ ╱             ⎟  ╱        \n",
      " ‾‾‾              ⎜ ‾‾‾           ⎟  ‾‾‾      \n",
      "k = 1             ⎝k = 1          ⎠ k = 1     \n",
      "─────────────── - ────────────────────────────\n",
      "     n                               2        \n",
      "    ___                  ⎛  n       ⎞         \n",
      "    ╲                    ⎜ ___      ⎟         \n",
      "     ╲                   ⎜ ╲        ⎟         \n",
      "     ╱   A[k]            ⎜  ╲       ⎟         \n",
      "    ╱                    ⎜  ╱   A[k]⎟         \n",
      "    ‾‾‾                  ⎜ ╱        ⎟         \n",
      "   k = 1                 ⎜ ‾‾‾      ⎟         \n",
      "                         ⎝k = 1     ⎠         \n"
     ]
    }
   ],
   "source": [
    "pprint(differential_mean)"
   ]
  },
  {
   "cell_type": "code",
   "execution_count": 115,
   "metadata": {},
   "outputs": [
    {
     "data": {
      "text/latex": [
       "$\\displaystyle \\begin{cases} \\frac{{x}_{i}}{\\sum_{k=1}^{n} {A}_{k}} + \\sum_{k=1}^{n} - \\frac{{A}_{k} {x}_{k}}{\\left(\\sum_{k=1}^{n} {A}_{k}\\right)^{2}} & \\text{for}\\: i \\geq 1 \\wedge i \\leq n \\\\\\sum_{k=1}^{n} 0 & \\text{otherwise} \\end{cases}$"
      ],
      "text/plain": [
       "⎧                n                                     \n",
       "⎪             ________                                 \n",
       "⎪             ╲                                        \n",
       "⎪              ╲                                       \n",
       "⎪               ╲       -A[k]⋅x[k]                     \n",
       "⎪                ╲     ─────────────                   \n",
       "⎪                 ╲                2                   \n",
       "⎪                  ╲   ⎛  n       ⎞                    \n",
       "⎪   x[i]            ╲  ⎜ ___      ⎟                    \n",
       "⎪────────── +       ╱  ⎜ ╲        ⎟   for i ≥ 1 ∧ i ≤ n\n",
       "⎪  n               ╱   ⎜  ╲       ⎟                    \n",
       "⎪ ___             ╱    ⎜  ╱   A[k]⎟                    \n",
       "⎪ ╲              ╱     ⎜ ╱        ⎟                    \n",
       "⎨  ╲            ╱      ⎜ ‾‾‾      ⎟                    \n",
       "⎪  ╱   A[k]    ╱       ⎝k = 1     ⎠                    \n",
       "⎪ ╱           ╱                                        \n",
       "⎪ ‾‾‾         ‾‾‾‾‾‾‾‾                                 \n",
       "⎪k = 1         k = 1                                   \n",
       "⎪                                                      \n",
       "⎪                n                                     \n",
       "⎪               ___                                    \n",
       "⎪               ╲                                      \n",
       "⎪                ╲                                     \n",
       "⎪                ╱   0                    otherwise    \n",
       "⎪               ╱                                      \n",
       "⎪               ‾‾‾                                    \n",
       "⎩              k = 1                                   "
      ]
     },
     "execution_count": 115,
     "metadata": {},
     "output_type": "execute_result"
    }
   ],
   "source": [
    "differential_mean.simplify()"
   ]
  },
  {
   "cell_type": "code",
   "execution_count": 116,
   "metadata": {},
   "outputs": [
    {
     "name": "stdout",
     "output_type": "stream",
     "text": [
      "\\frac{\\sum_{k=1}^{n} \\delta_{i k} {x}_{k}}{\\sum_{k=1}^{n} {A}_{k}} - \\frac{\\left(\\sum_{k=1}^{n} {A}_{k} {x}_{k}\\right) \\sum_{k=1}^{n} \\delta_{i k}}{\\left(\\sum_{k=1}^{n} {A}_{k}\\right)^{2}}\n"
     ]
    }
   ],
   "source": [
    "# I dunno how to simplify the kronecker deltas\n",
    "print_my_latex(differential_mean)"
   ]
  },
  {
   "cell_type": "markdown",
   "metadata": {},
   "source": [
    "## RMS"
   ]
  },
  {
   "cell_type": "markdown",
   "metadata": {},
   "source": [
    "$$RMS = \\sqrt{ \\frac{\\sum_i (A_i x_i - \\langle\\lambda\\rangle)^2}{ \\sum_i A_i}  }$$"
   ]
  },
  {
   "cell_type": "code",
   "execution_count": 124,
   "metadata": {},
   "outputs": [],
   "source": [
    "rms = sqrt( Sum( (A[j]*x[j] - mean)**2 , (j, 1, n))  / Sum(A[j], (j, 1, n)) )"
   ]
  },
  {
   "cell_type": "code",
   "execution_count": 125,
   "metadata": {},
   "outputs": [
    {
     "data": {
      "text/latex": [
       "$\\displaystyle \\sqrt{\\frac{\\sum_{j=1}^{n} \\left({A}_{j} {x}_{j} - \\frac{\\sum_{k=1}^{n} {A}_{k} {x}_{k}}{\\sum_{k=1}^{n} {A}_{k}}\\right)^{2}}{\\sum_{j=1}^{n} {A}_{j}}}$"
      ],
      "text/plain": [
       "                                  ____________________________________________\n",
       "                                 ╱      n                                     \n",
       "                                ╱  ___________                                \n",
       "                               ╱   ╲                                          \n",
       "                              ╱     ╲                                       2 \n",
       "                             ╱       ╲         ⎛              n            ⎞  \n",
       "                            ╱         ╲        ⎜             ___           ⎟  \n",
       "                           ╱           ╲       ⎜             ╲             ⎟  \n",
       "                          ╱             ╲      ⎜              ╲            ⎟  \n",
       "                         ╱               ╲     ⎜              ╱   A[k]⋅x[k]⎟  \n",
       "                        ╱                 ╲    ⎜             ╱             ⎟  \n",
       "                       ╱                   ╲   ⎜             ‾‾‾           ⎟  \n",
       "                      ╱                     ╲  ⎜            k = 1          ⎟  \n",
       "                     ╱                      ╱  ⎜A[j]⋅x[j] - ───────────────⎟  \n",
       "                    ╱                      ╱   ⎜                 n         ⎟  \n",
       "                   ╱                      ╱    ⎜                ___        ⎟  \n",
       "                  ╱                      ╱     ⎜                ╲          ⎟  \n",
       "                 ╱                      ╱      ⎜                 ╲         ⎟  \n",
       "                ╱                      ╱       ⎜                 ╱   A[k]  ⎟  \n",
       "               ╱                      ╱        ⎜                ╱          ⎟  \n",
       "              ╱                      ╱         ⎜                ‾‾‾        ⎟  \n",
       "             ╱                      ╱          ⎝               k = 1       ⎠  \n",
       "            ╱                      ╱                                          \n",
       "           ╱                       ‾‾‾‾‾‾‾‾‾‾‾                                \n",
       "          ╱                           j = 1                                   \n",
       "         ╱                         ────────────────────────────────────────── \n",
       "        ╱                                            n                        \n",
       "       ╱                                            ___                       \n",
       "      ╱                                             ╲                         \n",
       "     ╱                                               ╲                        \n",
       "    ╱                                                ╱   A[j]                 \n",
       "   ╱                                                ╱                         \n",
       "  ╱                                                 ‾‾‾                       \n",
       "╲╱                                                 j = 1                      "
      ]
     },
     "execution_count": 125,
     "metadata": {},
     "output_type": "execute_result"
    }
   ],
   "source": [
    "rms"
   ]
  },
  {
   "cell_type": "code",
   "execution_count": 126,
   "metadata": {},
   "outputs": [
    {
     "name": "stdout",
     "output_type": "stream",
     "text": [
      "\\sqrt{\\frac{\\sum_{j=1}^{n} \\left({A}_{j} {x}_{j} - \\frac{\\sum_{k=1}^{n} {A}_{k} {x}_{k}}{\\sum_{k=1}^{n} {A}_{k}}\\right)^{2}}{\\sum_{j=1}^{n} {A}_{j}}}\n"
     ]
    }
   ],
   "source": [
    "print_my_latex(rms)"
   ]
  },
  {
   "cell_type": "code",
   "execution_count": 127,
   "metadata": {},
   "outputs": [],
   "source": [
    "differential_rms = rms.diff(A[i])"
   ]
  },
  {
   "cell_type": "code",
   "execution_count": 128,
   "metadata": {},
   "outputs": [
    {
     "data": {
      "text/latex": [
       "$\\displaystyle \\frac{\\left(\\sqrt{\\frac{\\sum_{j=1}^{n} \\left({A}_{j} {x}_{j} - \\frac{\\sum_{k=1}^{n} {A}_{k} {x}_{k}}{\\sum_{k=1}^{n} {A}_{k}}\\right)^{2}}{\\sum_{j=1}^{n} {A}_{j}}}\\right) \\left(\\frac{\\sum_{j=1}^{n} \\left({A}_{j} {x}_{j} - \\frac{\\sum_{k=1}^{n} {A}_{k} {x}_{k}}{\\sum_{k=1}^{n} {A}_{k}}\\right) \\left(2 \\delta_{i j} {x}_{j} - \\frac{2 \\sum_{k=1}^{n} \\delta_{i k} {x}_{k}}{\\sum_{k=1}^{n} {A}_{k}} + \\frac{2 \\left(\\sum_{k=1}^{n} {A}_{k} {x}_{k}\\right) \\sum_{k=1}^{n} \\delta_{i k}}{\\left(\\sum_{k=1}^{n} {A}_{k}\\right)^{2}}\\right)}{2 \\sum_{j=1}^{n} {A}_{j}} - \\frac{\\left(\\sum_{j=1}^{n} \\left({A}_{j} {x}_{j} - \\frac{\\sum_{k=1}^{n} {A}_{k} {x}_{k}}{\\sum_{k=1}^{n} {A}_{k}}\\right)^{2}\\right) \\sum_{j=1}^{n} \\delta_{i j}}{2 \\left(\\sum_{j=1}^{n} {A}_{j}\\right)^{2}}\\right) \\sum_{j=1}^{n} {A}_{j}}{\\sum_{j=1}^{n} \\left({A}_{j} {x}_{j} - \\frac{\\sum_{k=1}^{n} {A}_{k} {x}_{k}}{\\sum_{k=1}^{n} {A}_{k}}\\right)^{2}}$"
      ],
      "text/plain": [
       "                                  ____________________________________________\n",
       "                                 ╱      n                                     \n",
       "                                ╱  ___________                                \n",
       "                               ╱   ╲                                          \n",
       "                              ╱     ╲                                       2 \n",
       "                             ╱       ╲         ⎛              n            ⎞  \n",
       "                            ╱         ╲        ⎜             ___           ⎟  \n",
       "                           ╱           ╲       ⎜             ╲             ⎟  \n",
       "                          ╱             ╲      ⎜              ╲            ⎟  \n",
       "                         ╱               ╲     ⎜              ╱   A[k]⋅x[k]⎟  \n",
       "                        ╱                 ╲    ⎜             ╱             ⎟  \n",
       "                       ╱                   ╲   ⎜             ‾‾‾           ⎟  \n",
       "                      ╱                     ╲  ⎜            k = 1          ⎟  \n",
       "                     ╱                      ╱  ⎜A[j]⋅x[j] - ───────────────⎟  \n",
       "                    ╱                      ╱   ⎜                 n         ⎟  \n",
       "                   ╱                      ╱    ⎜                ___        ⎟  \n",
       "                  ╱                      ╱     ⎜                ╲          ⎟  \n",
       "                 ╱                      ╱      ⎜                 ╲         ⎟  \n",
       "                ╱                      ╱       ⎜                 ╱   A[k]  ⎟  \n",
       "               ╱                      ╱        ⎜                ╱          ⎟  \n",
       "              ╱                      ╱         ⎜                ‾‾‾        ⎟  \n",
       "             ╱                      ╱          ⎝               k = 1       ⎠  \n",
       "            ╱                      ╱                                          \n",
       "           ╱                       ‾‾‾‾‾‾‾‾‾‾‾                                \n",
       "          ╱                           j = 1                                   \n",
       "         ╱                         ────────────────────────────────────────── \n",
       "        ╱                                            n                        \n",
       "       ╱                                            ___                       \n",
       "      ╱                                             ╲                         \n",
       "     ╱                                               ╲                        \n",
       "    ╱                                                ╱   A[j]                 \n",
       "   ╱                                                ╱                         \n",
       "  ╱                                                 ‾‾‾                       \n",
       "╲╱                                                 j = 1                      \n",
       "                                                                              \n",
       "──────────────────────────────────────────────────────────────────────────────\n",
       "                                                                              \n",
       "                                                                              \n",
       "                                                                              \n",
       "                                                                              \n",
       "                                                                              \n",
       "                                                                              \n",
       "                                                                              \n",
       "                                                                              \n",
       "                                                                              \n",
       "                                                                              \n",
       "                                                                              \n",
       "                                                                              \n",
       "                                                                              \n",
       "                                                                              \n",
       "                                                                              \n",
       "                                                                              \n",
       "                                                                              \n",
       "                                                                              \n",
       "                                                                              \n",
       "                                                                              \n",
       "                                                                              \n",
       "                                                                              \n",
       "                                                                              \n",
       "                                                                              \n",
       "\n",
       "                                                                              \n",
       " ⎛     n                                                                      \n",
       " ⎜___________                                                                 \n",
       " ⎜╲                                                                           \n",
       " ⎜ ╲          ⎛              n            ⎞ ⎛                  n              \n",
       " ⎜  ╲         ⎜             ___           ⎟ ⎜                 ___             \n",
       " ⎜   ╲        ⎜             ╲             ⎟ ⎜                 ╲               \n",
       " ⎜    ╲       ⎜              ╲            ⎟ ⎜                  ╲   δ   ⋅x[k]  \n",
       " ⎜     ╲      ⎜              ╱   A[k]⋅x[k]⎟ ⎜              2⋅  ╱    i,k       \n",
       " ⎜      ╲     ⎜             ╱             ⎟ ⎜                 ╱               \n",
       " ⎜       ╲    ⎜             ‾‾‾           ⎟ ⎜                 ‾‾‾             \n",
       " ⎜        ╲   ⎜            k = 1          ⎟ ⎜                k = 1            \n",
       " ⎜         ╲  ⎜A[j]⋅x[j] - ───────────────⎟⋅⎜2⋅δ   ⋅x[j] - ───────────────── +\n",
       " ⎜         ╱  ⎜                 n         ⎟ ⎜   i,j              n            \n",
       " ⎜        ╱   ⎜                ___        ⎟ ⎜                   ___           \n",
       " ⎜       ╱    ⎜                ╲          ⎟ ⎜                   ╲             \n",
       " ⎜      ╱     ⎜                 ╲         ⎟ ⎜                    ╲            \n",
       " ⎜     ╱      ⎜                 ╱   A[k]  ⎟ ⎜                    ╱   A[k]     \n",
       " ⎜    ╱       ⎜                ╱          ⎟ ⎜                   ╱             \n",
       " ⎜   ╱        ⎜                ‾‾‾        ⎟ ⎜                   ‾‾‾           \n",
       " ⎜  ╱         ⎝               k = 1       ⎠ ⎜                  k = 1          \n",
       " ⎜ ╱                                        ⎝                                 \n",
       " ⎜╱                                                                           \n",
       " ⎜‾‾‾‾‾‾‾‾‾‾‾                                                                 \n",
       " ⎜   j = 1                                                                    \n",
       "⋅⎜────────────────────────────────────────────────────────────────────────────\n",
       " ⎜                                                    n                       \n",
       " ⎜                                                   ___                      \n",
       " ⎜                                                   ╲                        \n",
       " ⎜                                                    ╲                       \n",
       " ⎜                                                2⋅  ╱   A[j]                \n",
       " ⎜                                                   ╱                        \n",
       " ⎜                                                   ‾‾‾                      \n",
       " ⎜                                                  j = 1                     \n",
       " ⎝                                                                            \n",
       "──────────────────────────────────────────────────────────────────────────────\n",
       "                                   n                                          \n",
       "                              ___________                                     \n",
       "                              ╲                                               \n",
       "                               ╲                                       2      \n",
       "                                ╲         ⎛              n            ⎞       \n",
       "                                 ╲        ⎜             ___           ⎟       \n",
       "                                  ╲       ⎜             ╲             ⎟       \n",
       "                                   ╲      ⎜              ╲            ⎟       \n",
       "                                    ╲     ⎜              ╱   A[k]⋅x[k]⎟       \n",
       "                                     ╲    ⎜             ╱             ⎟       \n",
       "                                      ╲   ⎜             ‾‾‾           ⎟       \n",
       "                                       ╲  ⎜            k = 1          ⎟       \n",
       "                                       ╱  ⎜A[j]⋅x[j] - ───────────────⎟       \n",
       "                                      ╱   ⎜                 n         ⎟       \n",
       "                                     ╱    ⎜                ___        ⎟       \n",
       "                                    ╱     ⎜                ╲          ⎟       \n",
       "                                   ╱      ⎜                 ╲         ⎟       \n",
       "                                  ╱       ⎜                 ╱   A[k]  ⎟       \n",
       "                                 ╱        ⎜                ╱          ⎟       \n",
       "                                ╱         ⎜                ‾‾‾        ⎟       \n",
       "                               ╱          ⎝               k = 1       ⎠       \n",
       "                              ╱                                               \n",
       "                              ‾‾‾‾‾‾‾‾‾‾‾                                     \n",
       "                                 j = 1                                        \n",
       "\n",
       "                                                                              \n",
       "                                   ⎛     n                                    \n",
       "                                   ⎜___________                               \n",
       "                                   ⎜╲                                         \n",
       "   ⎛  n            ⎞   n       ⎞   ⎜ ╲                                       2\n",
       "   ⎜ ___           ⎟  ___      ⎟   ⎜  ╲         ⎛              n            ⎞ \n",
       "   ⎜ ╲             ⎟  ╲        ⎟   ⎜   ╲        ⎜             ___           ⎟ \n",
       "   ⎜  ╲            ⎟   ╲   δ   ⎟   ⎜    ╲       ⎜             ╲             ⎟ \n",
       " 2⋅⎜  ╱   A[k]⋅x[k]⎟⋅  ╱    i,k⎟   ⎜     ╲      ⎜              ╲            ⎟ \n",
       "   ⎜ ╱             ⎟  ╱        ⎟   ⎜      ╲     ⎜              ╱   A[k]⋅x[k]⎟ \n",
       "   ⎜ ‾‾‾           ⎟  ‾‾‾      ⎟   ⎜       ╲    ⎜             ╱             ⎟ \n",
       "   ⎝k = 1          ⎠ k = 1     ⎟   ⎜        ╲   ⎜             ‾‾‾           ⎟ \n",
       " ──────────────────────────────⎟   ⎜         ╲  ⎜            k = 1          ⎟ \n",
       "                     2         ⎟   ⎜         ╱  ⎜A[j]⋅x[j] - ───────────────⎟ \n",
       "         ⎛  n       ⎞          ⎟   ⎜        ╱   ⎜                 n         ⎟ \n",
       "         ⎜ ___      ⎟          ⎟   ⎜       ╱    ⎜                ___        ⎟ \n",
       "         ⎜ ╲        ⎟          ⎟   ⎜      ╱     ⎜                ╲          ⎟ \n",
       "         ⎜  ╲       ⎟          ⎟   ⎜     ╱      ⎜                 ╲         ⎟ \n",
       "         ⎜  ╱   A[k]⎟          ⎟   ⎜    ╱       ⎜                 ╱   A[k]  ⎟ \n",
       "         ⎜ ╱        ⎟          ⎟   ⎜   ╱        ⎜                ╱          ⎟ \n",
       "         ⎜ ‾‾‾      ⎟          ⎟   ⎜  ╱         ⎜                ‾‾‾        ⎟ \n",
       "         ⎝k = 1     ⎠          ⎠   ⎜ ╱          ⎝               k = 1       ⎠ \n",
       "                                   ⎜╱                                         \n",
       "                                   ⎜‾‾‾‾‾‾‾‾‾‾‾                               \n",
       "                                   ⎝   j = 1                                  \n",
       "──────────────────────────────── - ───────────────────────────────────────────\n",
       "                                                                     2        \n",
       "                                                         ⎛  n       ⎞         \n",
       "                                                         ⎜ ___      ⎟         \n",
       "                                                         ⎜ ╲        ⎟         \n",
       "                                                         ⎜  ╲       ⎟         \n",
       "                                                       2⋅⎜  ╱   A[j]⎟         \n",
       "                                                         ⎜ ╱        ⎟         \n",
       "                                                         ⎜ ‾‾‾      ⎟         \n",
       "                                                         ⎝j = 1     ⎠         \n",
       "──────────────────────────────────────────────────────────────────────────────\n",
       "                                                                              \n",
       "                                                                              \n",
       "                                                                              \n",
       "                                                                              \n",
       "                                                                              \n",
       "                                                                              \n",
       "                                                                              \n",
       "                                                                              \n",
       "                                                                              \n",
       "                                                                              \n",
       "                                                                              \n",
       "                                                                              \n",
       "                                                                              \n",
       "                                                                              \n",
       "                                                                              \n",
       "                                                                              \n",
       "                                                                              \n",
       "                                                                              \n",
       "                                                                              \n",
       "                                                                              \n",
       "                                                                              \n",
       "                                                                              \n",
       "                                                                              \n",
       "                                                                              \n",
       "\n",
       "                        \n",
       "⎞           ⎞           \n",
       "⎟           ⎟           \n",
       "⎟           ⎟           \n",
       "⎟           ⎟           \n",
       "⎟           ⎟           \n",
       "⎟           ⎟           \n",
       "⎟           ⎟           \n",
       "⎟           ⎟           \n",
       "⎟   n       ⎟           \n",
       "⎟  ___      ⎟           \n",
       "⎟  ╲        ⎟           \n",
       "⎟   ╲   δ   ⎟           \n",
       "⎟⋅  ╱    i,j⎟           \n",
       "⎟  ╱        ⎟           \n",
       "⎟  ‾‾‾      ⎟           \n",
       "⎟ j = 1     ⎟           \n",
       "⎟           ⎟           \n",
       "⎟           ⎟           \n",
       "⎟           ⎟           \n",
       "⎟           ⎟           \n",
       "⎟           ⎟   n       \n",
       "⎟           ⎟  ___      \n",
       "⎟           ⎟  ╲        \n",
       "⎠           ⎟   ╲       \n",
       "────────────⎟⋅  ╱   A[j]\n",
       "            ⎟  ╱        \n",
       "            ⎟  ‾‾‾      \n",
       "            ⎟ j = 1     \n",
       "            ⎟           \n",
       "            ⎟           \n",
       "            ⎟           \n",
       "            ⎟           \n",
       "            ⎟           \n",
       "            ⎠           \n",
       "────────────────────────\n",
       "                        \n",
       "                        \n",
       "                        \n",
       "                        \n",
       "                        \n",
       "                        \n",
       "                        \n",
       "                        \n",
       "                        \n",
       "                        \n",
       "                        \n",
       "                        \n",
       "                        \n",
       "                        \n",
       "                        \n",
       "                        \n",
       "                        \n",
       "                        \n",
       "                        \n",
       "                        \n",
       "                        \n",
       "                        \n",
       "                        \n",
       "                        "
      ]
     },
     "execution_count": 128,
     "metadata": {},
     "output_type": "execute_result"
    }
   ],
   "source": [
    "differential_rms"
   ]
  },
  {
   "cell_type": "code",
   "execution_count": 117,
   "metadata": {},
   "outputs": [
    {
     "name": "stdout",
     "output_type": "stream",
     "text": [
      "\\frac{\\left(\\sqrt{\\frac{\\sum_{j=1}^{n} \\left({A}_{j} {x}_{j} - \\frac{\\sum_{k=1}^{n} {A}_{k} {x}_{k}}{\\sum_{k=1}^{n} {A}_{k}}\\right)^{2}}{\\sum_{j=1}^{n} {A}_{j}}}\\right) \\left(\\frac{\\sum_{j=1}^{n} \\left({A}_{j} {x}_{j} - \\frac{\\sum_{k=1}^{n} {A}_{k} {x}_{k}}{\\sum_{k=1}^{n} {A}_{k}}\\right) \\left(2 \\delta_{i j} {x}_{j} - \\frac{2 \\sum_{k=1}^{n} \\delta_{i k} {x}_{k}}{\\sum_{k=1}^{n} {A}_{k}} + \\frac{2 \\left(\\sum_{k=1}^{n} {A}_{k} {x}_{k}\\right) \\sum_{k=1}^{n} \\delta_{i k}}{\\left(\\sum_{k=1}^{n} {A}_{k}\\right)^{2}}\\right)}{2 \\sum_{j=1}^{n} {A}_{j}} - \\frac{\\left(\\sum_{j=1}^{n} \\left({A}_{j} {x}_{j} - \\frac{\\sum_{k=1}^{n} {A}_{k} {x}_{k}}{\\sum_{k=1}^{n} {A}_{k}}\\right)^{2}\\right) \\sum_{j=1}^{n} \\delta_{i j}}{2 \\left(\\sum_{j=1}^{n} {A}_{j}\\right)^{2}}\\right) \\sum_{j=1}^{n} {A}_{j}}{\\sum_{j=1}^{n} \\left({A}_{j} {x}_{j} - \\frac{\\sum_{k=1}^{n} {A}_{k} {x}_{k}}{\\sum_{k=1}^{n} {A}_{k}}\\right)^{2}}\n"
     ]
    }
   ],
   "source": [
    "print_my_latex(differential_rms)"
   ]
  },
  {
   "cell_type": "markdown",
   "metadata": {},
   "source": [
    "## Delta ($\\Delta$)"
   ]
  },
  {
   "cell_type": "markdown",
   "metadata": {},
   "source": [
    "\\begin{align}\n",
    "\\Delta &= \\frac{1}{2} \\int \\frac{(p_{1}(\\lambda) - p_{2}(\\lambda))^2}{p_{1}(\\lambda) + p_{2}(\\lambda)} \\mathrm{d}\\lambda \\\\\n",
    "       &= 0.5 \\sum_i \\frac{(A_i - B_i)^2}{A_i + B_i} \\text{ (in discrete form)}\n",
    "\\end{align}"
   ]
  },
  {
   "cell_type": "code",
   "execution_count": 130,
   "metadata": {},
   "outputs": [],
   "source": [
    "A = IndexedBase(\"A\")\n",
    "B = IndexedBase(\"B\")\n",
    "i, j = symbols('i j', cls=Idx)\n",
    "delta = 0.5 * Sum( (A[j] - B[j])**2 / (A[j] + B[j]), (j, 1, n))"
   ]
  },
  {
   "cell_type": "code",
   "execution_count": 131,
   "metadata": {},
   "outputs": [
    {
     "data": {
      "text/latex": [
       "$\\displaystyle 0.5 \\sum_{j=1}^{n} \\frac{\\left({A}_{j} - {B}_{j}\\right)^{2}}{{A}_{j} + {B}_{j}}$"
      ],
      "text/plain": [
       "      n                 \n",
       "     ____               \n",
       "     ╲                  \n",
       "      ╲                2\n",
       "       ╲  (A[j] - B[j]) \n",
       "0.5⋅   ╱  ──────────────\n",
       "      ╱    A[j] + B[j]  \n",
       "     ╱                  \n",
       "     ‾‾‾‾               \n",
       "    j = 1               "
      ]
     },
     "execution_count": 131,
     "metadata": {},
     "output_type": "execute_result"
    }
   ],
   "source": [
    "delta"
   ]
  },
  {
   "cell_type": "code",
   "execution_count": 136,
   "metadata": {},
   "outputs": [],
   "source": [
    "differential_delta_A = delta.diff(A[i])"
   ]
  },
  {
   "cell_type": "code",
   "execution_count": 137,
   "metadata": {},
   "outputs": [
    {
     "data": {
      "text/latex": [
       "$\\displaystyle 0.5 \\sum_{j=1}^{n} \\left(- \\frac{\\left({A}_{j} - {B}_{j}\\right)^{2} \\delta_{i j}}{\\left({A}_{j} + {B}_{j}\\right)^{2}} + \\frac{2 \\left({A}_{j} - {B}_{j}\\right) \\delta_{i j}}{{A}_{j} + {B}_{j}}\\right)$"
      ],
      "text/plain": [
       "      n                                                 \n",
       "    _____                                               \n",
       "    ╲                                                   \n",
       "     ╲    ⎛               2                            ⎞\n",
       "      ╲   ⎜  (A[j] - B[j]) ⋅δ      2⋅(A[j] - B[j])⋅δ   ⎟\n",
       "       ╲  ⎜                  i,j                    i,j⎟\n",
       "0.5⋅   ╱  ⎜- ─────────────────── + ────────────────────⎟\n",
       "      ╱   ⎜                  2         A[j] + B[j]     ⎟\n",
       "     ╱    ⎝     (A[j] + B[j])                          ⎠\n",
       "    ╱                                                   \n",
       "    ‾‾‾‾‾                                               \n",
       "    j = 1                                               "
      ]
     },
     "execution_count": 137,
     "metadata": {},
     "output_type": "execute_result"
    }
   ],
   "source": [
    "differential_delta_A"
   ]
  },
  {
   "cell_type": "code",
   "execution_count": 140,
   "metadata": {},
   "outputs": [
    {
     "name": "stdout",
     "output_type": "stream",
     "text": [
      "0.5 \\sum_{j=1}^{n} \\left(- \\frac{\\left({A}_{j} - {B}_{j}\\right)^{2} \\delta_{i j}}{\\left({A}_{j} + {B}_{j}\\right)^{2}} + \\frac{2 \\left({A}_{j} - {B}_{j}\\right) \\delta_{i j}}{{A}_{j} + {B}_{j}}\\right)\n"
     ]
    }
   ],
   "source": [
    "print_my_latex(differential_delta_A)"
   ]
  },
  {
   "cell_type": "code",
   "execution_count": 138,
   "metadata": {},
   "outputs": [],
   "source": [
    "differential_delta_B = delta.diff(B[i])"
   ]
  },
  {
   "cell_type": "code",
   "execution_count": 139,
   "metadata": {},
   "outputs": [
    {
     "data": {
      "text/latex": [
       "$\\displaystyle 0.5 \\sum_{j=1}^{n} \\left(- \\frac{\\left({A}_{j} - {B}_{j}\\right)^{2} \\delta_{i j}}{\\left({A}_{j} + {B}_{j}\\right)^{2}} - \\frac{2 \\left({A}_{j} - {B}_{j}\\right) \\delta_{i j}}{{A}_{j} + {B}_{j}}\\right)$"
      ],
      "text/plain": [
       "      n                                                 \n",
       "    _____                                               \n",
       "    ╲                                                   \n",
       "     ╲    ⎛               2                            ⎞\n",
       "      ╲   ⎜  (A[j] - B[j]) ⋅δ      2⋅(A[j] - B[j])⋅δ   ⎟\n",
       "       ╲  ⎜                  i,j                    i,j⎟\n",
       "0.5⋅   ╱  ⎜- ─────────────────── - ────────────────────⎟\n",
       "      ╱   ⎜                  2         A[j] + B[j]     ⎟\n",
       "     ╱    ⎝     (A[j] + B[j])                          ⎠\n",
       "    ╱                                                   \n",
       "    ‾‾‾‾‾                                               \n",
       "    j = 1                                               "
      ]
     },
     "execution_count": 139,
     "metadata": {},
     "output_type": "execute_result"
    }
   ],
   "source": [
    "differential_delta_B"
   ]
  },
  {
   "cell_type": "code",
   "execution_count": 141,
   "metadata": {},
   "outputs": [
    {
     "name": "stdout",
     "output_type": "stream",
     "text": [
      "0.5 \\sum_{j=1}^{n} \\left(- \\frac{\\left({A}_{j} - {B}_{j}\\right)^{2} \\delta_{i j}}{\\left({A}_{j} + {B}_{j}\\right)^{2}} - \\frac{2 \\left({A}_{j} - {B}_{j}\\right) \\delta_{i j}}{{A}_{j} + {B}_{j}}\\right)\n"
     ]
    }
   ],
   "source": [
    "print_my_latex(differential_delta_B)"
   ]
  },
  {
   "cell_type": "code",
   "execution_count": null,
   "metadata": {},
   "outputs": [],
   "source": []
  }
 ],
 "metadata": {
  "kernelspec": {
   "display_name": "Python 3",
   "language": "python",
   "name": "python3"
  },
  "language_info": {
   "codemirror_mode": {
    "name": "ipython",
    "version": 3
   },
   "file_extension": ".py",
   "mimetype": "text/x-python",
   "name": "python",
   "nbconvert_exporter": "python",
   "pygments_lexer": "ipython3",
   "version": "3.7.5"
  }
 },
 "nbformat": 4,
 "nbformat_minor": 2
}
